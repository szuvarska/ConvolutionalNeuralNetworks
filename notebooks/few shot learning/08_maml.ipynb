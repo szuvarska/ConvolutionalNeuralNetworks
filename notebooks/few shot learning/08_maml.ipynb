{
 "cells": [
  {
   "cell_type": "code",
   "id": "initial_id",
   "metadata": {
    "collapsed": true,
    "ExecuteTime": {
     "end_time": "2025-03-29T15:48:11.537419Z",
     "start_time": "2025-03-29T15:48:11.535177Z"
    }
   },
   "source": [
    "import timm\n",
    "import torch\n",
    "import torch.nn as nn\n",
    "import torch.optim as optim\n",
    "from src.few_shot_learning import load_cinic10, calculate_accuracy, plot_confusion_matrix"
   ],
   "outputs": [],
   "execution_count": 7
  },
  {
   "metadata": {
    "ExecuteTime": {
     "end_time": "2025-03-29T16:09:13.853333Z",
     "start_time": "2025-03-29T16:09:13.849734Z"
    }
   },
   "cell_type": "code",
   "source": [
    "# Define a simple CNN model\n",
    "class CNN(nn.Module):\n",
    "    def __init__(self, num_classes=10):\n",
    "        super(CNN, self).__init__()\n",
    "        self.conv1 = nn.Conv2d(3, 32, kernel_size=3, padding=1)\n",
    "        self.conv2 = nn.Conv2d(32, 64, kernel_size=3, padding=1)\n",
    "        self.fc1 = nn.Linear(64 * 8 * 8, 128)\n",
    "        self.fc2 = nn.Linear(128, num_classes)\n",
    "        self.relu = nn.ReLU()\n",
    "        self.pool = nn.MaxPool2d(2, 2)\n",
    "        \n",
    "    def forward(self, x):\n",
    "        x = self.pool(self.relu(self.conv1(x)))\n",
    "        x = self.pool(self.relu(self.conv2(x)))\n",
    "        x = x.view(x.size(0), -1)\n",
    "        x = self.relu(self.fc1(x))\n",
    "        x = self.fc2(x)\n",
    "        return x"
   ],
   "id": "e31444761d116940",
   "outputs": [],
   "execution_count": 42
  },
  {
   "metadata": {
    "ExecuteTime": {
     "end_time": "2025-03-29T16:09:14.563702Z",
     "start_time": "2025-03-29T16:09:14.554967Z"
    }
   },
   "cell_type": "code",
   "source": [
    "# MAML Algorithm\n",
    "class MAML(nn.Module):\n",
    "    def __init__(self, model, num_inner_steps=5, lr_inner=0.01, lr_outer=0.001, num_classes=10):\n",
    "        super(MAML, self).__init__()\n",
    "        self.model = model\n",
    "        self.num_inner_steps = num_inner_steps\n",
    "        self.lr_inner = lr_inner\n",
    "        self.lr_outer = lr_outer\n",
    "        self.num_classes = num_classes\n",
    "        self.loss_fn = nn.CrossEntropyLoss()\n",
    "        # self.outer_optimizer = optim.Adam(self.model.parameters(), lr=self.lr_outer)\n",
    "        self.outer_optimizer = optim.Adam(self.model.parameters(), lr=self.lr_outer, weight_decay=1e-5)\n",
    "\n",
    "    def adapt(self, support_x, support_y):\n",
    "        # Instantiate a new ResNet18 model\n",
    "        model_copy = models.resnet18(weights=models.ResNet18_Weights.IMAGENET1K_V1)\n",
    "        model_copy.fc = nn.Linear(model_copy.fc.in_features, self.num_classes)  # Adjust the final layer for your dataset\n",
    "        \n",
    "        # Copy weights from the original model (ResNet18) to the new model\n",
    "        model_copy.load_state_dict(self.model.state_dict(), strict=False)\n",
    "\n",
    "        # Set the model to training mode\n",
    "        model_copy.train()\n",
    "\n",
    "        # Define optimizer for inner loop\n",
    "        # optimizer = optim.SGD(model_copy.parameters(), lr=self.lr_inner)\n",
    "        optimizer = optim.Adam(model_copy.parameters(), lr=self.lr_inner)\n",
    "\n",
    "        # Perform inner updates (adaptation)\n",
    "        for _ in range(self.num_inner_steps):\n",
    "            optimizer.zero_grad()\n",
    "            predictions = model_copy(support_x)\n",
    "            loss = self.loss_fn(predictions, support_y)\n",
    "            loss.backward()\n",
    "            optimizer.step()\n",
    "\n",
    "        return model_copy\n",
    "\n",
    "    def meta_train(self, dataloader, epochs=10):\n",
    "        for epoch in range(epochs):\n",
    "            total_meta_loss = 0\n",
    "            total_correct = 0\n",
    "            total_samples = 0\n",
    "\n",
    "            for support_x, support_y in dataloader:\n",
    "                query_x, query_y = support_x.clone(), support_y.clone()\n",
    "                adapted_model = self.adapt(support_x, support_y)\n",
    "\n",
    "                # Perform the meta-update\n",
    "                self.outer_optimizer.zero_grad()\n",
    "                query_predictions = adapted_model(query_x)\n",
    "                meta_loss = self.loss_fn(query_predictions, query_y)\n",
    "                total_meta_loss += meta_loss.item()\n",
    "\n",
    "                # Calculate accuracy\n",
    "                _, predicted = torch.max(query_predictions, 1)\n",
    "                correct = (predicted == query_y).sum().item()\n",
    "                total_correct += correct\n",
    "                total_samples += query_y.size(0)\n",
    "\n",
    "                meta_loss.backward()\n",
    "                torch.nn.utils.clip_grad_norm_(self.model.parameters(), max_norm=5.0)\n",
    "                self.outer_optimizer.step()\n",
    "\n",
    "            # Print loss and accuracy\n",
    "            accuracy = total_correct / total_samples * 100\n",
    "            print(f\"Epoch {epoch+1}/{epochs}, Meta-Loss: {total_meta_loss/len(dataloader):.4f}, Accuracy: {accuracy:.2f}%\")\n"
   ],
   "id": "40cd3aa81dcbd19f",
   "outputs": [],
   "execution_count": 43
  },
  {
   "metadata": {
    "ExecuteTime": {
     "end_time": "2025-03-29T16:09:15.778328Z",
     "start_time": "2025-03-29T16:09:15.773511Z"
    }
   },
   "cell_type": "code",
   "source": [
    "model = CNN(num_classes=10)\n",
    "maml = MAML(model)"
   ],
   "id": "8b36e9eb32bf0fba",
   "outputs": [],
   "execution_count": 44
  },
  {
   "metadata": {
    "ExecuteTime": {
     "end_time": "2025-03-29T16:09:16.345865Z",
     "start_time": "2025-03-29T16:09:16.178036Z"
    }
   },
   "cell_type": "code",
   "source": [
    "data_dir = \"../../data\"\n",
    "dataloader = load_cinic10(data_dir, few_shot_per_class=100, batch_size=128)"
   ],
   "id": "8ee93872f85627cf",
   "outputs": [],
   "execution_count": 45
  },
  {
   "metadata": {
    "ExecuteTime": {
     "end_time": "2025-03-29T16:09:17.246993Z",
     "start_time": "2025-03-29T16:09:17.002422Z"
    }
   },
   "cell_type": "code",
   "source": "maml.meta_train(dataloader, epochs=30)",
   "id": "77abb509029f6a6f",
   "outputs": [
    {
     "ename": "RuntimeError",
     "evalue": "Error(s) in loading state_dict for ResNet:\n\tsize mismatch for conv1.weight: copying a param with shape torch.Size([32, 3, 3, 3]) from checkpoint, the shape in current model is torch.Size([64, 3, 7, 7]).",
     "output_type": "error",
     "traceback": [
      "\u001B[0;31m---------------------------------------------------------------------------\u001B[0m",
      "\u001B[0;31mRuntimeError\u001B[0m                              Traceback (most recent call last)",
      "Cell \u001B[0;32mIn[46], line 1\u001B[0m\n\u001B[0;32m----> 1\u001B[0m \u001B[43mmaml\u001B[49m\u001B[38;5;241;43m.\u001B[39;49m\u001B[43mmeta_train\u001B[49m\u001B[43m(\u001B[49m\u001B[43mdataloader\u001B[49m\u001B[43m,\u001B[49m\u001B[43m \u001B[49m\u001B[43mepochs\u001B[49m\u001B[38;5;241;43m=\u001B[39;49m\u001B[38;5;241;43m30\u001B[39;49m\u001B[43m)\u001B[49m\n",
      "Cell \u001B[0;32mIn[43], line 47\u001B[0m, in \u001B[0;36mMAML.meta_train\u001B[0;34m(self, dataloader, epochs)\u001B[0m\n\u001B[1;32m     45\u001B[0m \u001B[38;5;28;01mfor\u001B[39;00m support_x, support_y \u001B[38;5;129;01min\u001B[39;00m dataloader:\n\u001B[1;32m     46\u001B[0m     query_x, query_y \u001B[38;5;241m=\u001B[39m support_x\u001B[38;5;241m.\u001B[39mclone(), support_y\u001B[38;5;241m.\u001B[39mclone()\n\u001B[0;32m---> 47\u001B[0m     adapted_model \u001B[38;5;241m=\u001B[39m \u001B[38;5;28;43mself\u001B[39;49m\u001B[38;5;241;43m.\u001B[39;49m\u001B[43madapt\u001B[49m\u001B[43m(\u001B[49m\u001B[43msupport_x\u001B[49m\u001B[43m,\u001B[49m\u001B[43m \u001B[49m\u001B[43msupport_y\u001B[49m\u001B[43m)\u001B[49m\n\u001B[1;32m     49\u001B[0m     \u001B[38;5;66;03m# Perform the meta-update\u001B[39;00m\n\u001B[1;32m     50\u001B[0m     \u001B[38;5;28mself\u001B[39m\u001B[38;5;241m.\u001B[39mouter_optimizer\u001B[38;5;241m.\u001B[39mzero_grad()\n",
      "Cell \u001B[0;32mIn[43], line 20\u001B[0m, in \u001B[0;36mMAML.adapt\u001B[0;34m(self, support_x, support_y)\u001B[0m\n\u001B[1;32m     17\u001B[0m model_copy\u001B[38;5;241m.\u001B[39mfc \u001B[38;5;241m=\u001B[39m nn\u001B[38;5;241m.\u001B[39mLinear(model_copy\u001B[38;5;241m.\u001B[39mfc\u001B[38;5;241m.\u001B[39min_features, \u001B[38;5;28mself\u001B[39m\u001B[38;5;241m.\u001B[39mnum_classes)  \u001B[38;5;66;03m# Adjust the final layer for your dataset\u001B[39;00m\n\u001B[1;32m     19\u001B[0m \u001B[38;5;66;03m# Copy weights from the original model (ResNet18) to the new model\u001B[39;00m\n\u001B[0;32m---> 20\u001B[0m \u001B[43mmodel_copy\u001B[49m\u001B[38;5;241;43m.\u001B[39;49m\u001B[43mload_state_dict\u001B[49m\u001B[43m(\u001B[49m\u001B[38;5;28;43mself\u001B[39;49m\u001B[38;5;241;43m.\u001B[39;49m\u001B[43mmodel\u001B[49m\u001B[38;5;241;43m.\u001B[39;49m\u001B[43mstate_dict\u001B[49m\u001B[43m(\u001B[49m\u001B[43m)\u001B[49m\u001B[43m,\u001B[49m\u001B[43m \u001B[49m\u001B[43mstrict\u001B[49m\u001B[38;5;241;43m=\u001B[39;49m\u001B[38;5;28;43;01mFalse\u001B[39;49;00m\u001B[43m)\u001B[49m\n\u001B[1;32m     22\u001B[0m \u001B[38;5;66;03m# Set the model to training mode\u001B[39;00m\n\u001B[1;32m     23\u001B[0m model_copy\u001B[38;5;241m.\u001B[39mtrain()\n",
      "File \u001B[0;32m/media/marta/Dane/Sem8/ConvolutionalNeuralNeutworks/.venv/lib/python3.10/site-packages/torch/nn/modules/module.py:2581\u001B[0m, in \u001B[0;36mModule.load_state_dict\u001B[0;34m(self, state_dict, strict, assign)\u001B[0m\n\u001B[1;32m   2573\u001B[0m         error_msgs\u001B[38;5;241m.\u001B[39minsert(\n\u001B[1;32m   2574\u001B[0m             \u001B[38;5;241m0\u001B[39m,\n\u001B[1;32m   2575\u001B[0m             \u001B[38;5;124m\"\u001B[39m\u001B[38;5;124mMissing key(s) in state_dict: \u001B[39m\u001B[38;5;132;01m{}\u001B[39;00m\u001B[38;5;124m. \u001B[39m\u001B[38;5;124m\"\u001B[39m\u001B[38;5;241m.\u001B[39mformat(\n\u001B[1;32m   2576\u001B[0m                 \u001B[38;5;124m\"\u001B[39m\u001B[38;5;124m, \u001B[39m\u001B[38;5;124m\"\u001B[39m\u001B[38;5;241m.\u001B[39mjoin(\u001B[38;5;124mf\u001B[39m\u001B[38;5;124m'\u001B[39m\u001B[38;5;124m\"\u001B[39m\u001B[38;5;132;01m{\u001B[39;00mk\u001B[38;5;132;01m}\u001B[39;00m\u001B[38;5;124m\"\u001B[39m\u001B[38;5;124m'\u001B[39m \u001B[38;5;28;01mfor\u001B[39;00m k \u001B[38;5;129;01min\u001B[39;00m missing_keys)\n\u001B[1;32m   2577\u001B[0m             ),\n\u001B[1;32m   2578\u001B[0m         )\n\u001B[1;32m   2580\u001B[0m \u001B[38;5;28;01mif\u001B[39;00m \u001B[38;5;28mlen\u001B[39m(error_msgs) \u001B[38;5;241m>\u001B[39m \u001B[38;5;241m0\u001B[39m:\n\u001B[0;32m-> 2581\u001B[0m     \u001B[38;5;28;01mraise\u001B[39;00m \u001B[38;5;167;01mRuntimeError\u001B[39;00m(\n\u001B[1;32m   2582\u001B[0m         \u001B[38;5;124m\"\u001B[39m\u001B[38;5;124mError(s) in loading state_dict for \u001B[39m\u001B[38;5;132;01m{}\u001B[39;00m\u001B[38;5;124m:\u001B[39m\u001B[38;5;130;01m\\n\u001B[39;00m\u001B[38;5;130;01m\\t\u001B[39;00m\u001B[38;5;132;01m{}\u001B[39;00m\u001B[38;5;124m\"\u001B[39m\u001B[38;5;241m.\u001B[39mformat(\n\u001B[1;32m   2583\u001B[0m             \u001B[38;5;28mself\u001B[39m\u001B[38;5;241m.\u001B[39m\u001B[38;5;18m__class__\u001B[39m\u001B[38;5;241m.\u001B[39m\u001B[38;5;18m__name__\u001B[39m, \u001B[38;5;124m\"\u001B[39m\u001B[38;5;130;01m\\n\u001B[39;00m\u001B[38;5;130;01m\\t\u001B[39;00m\u001B[38;5;124m\"\u001B[39m\u001B[38;5;241m.\u001B[39mjoin(error_msgs)\n\u001B[1;32m   2584\u001B[0m         )\n\u001B[1;32m   2585\u001B[0m     )\n\u001B[1;32m   2586\u001B[0m \u001B[38;5;28;01mreturn\u001B[39;00m _IncompatibleKeys(missing_keys, unexpected_keys)\n",
      "\u001B[0;31mRuntimeError\u001B[0m: Error(s) in loading state_dict for ResNet:\n\tsize mismatch for conv1.weight: copying a param with shape torch.Size([32, 3, 3, 3]) from checkpoint, the shape in current model is torch.Size([64, 3, 7, 7])."
     ]
    }
   ],
   "execution_count": 46
  },
  {
   "metadata": {
    "ExecuteTime": {
     "end_time": "2025-03-29T15:49:07.987355Z",
     "start_time": "2025-03-29T15:49:01.571372Z"
    }
   },
   "cell_type": "code",
   "source": "train_accuracy = calculate_accuracy(model, data_dir, split='train')",
   "id": "b48831b75797ac95",
   "outputs": [
    {
     "name": "stdout",
     "output_type": "stream",
     "text": [
      "Accuracy on train set: 9.95%\n"
     ]
    }
   ],
   "execution_count": 14
  },
  {
   "metadata": {
    "ExecuteTime": {
     "end_time": "2025-03-29T16:10:20.034740Z",
     "start_time": "2025-03-29T16:10:20.031988Z"
    }
   },
   "cell_type": "code",
   "source": [
    "from torchvision import models\n",
    "\n",
    "class ResNet18MAML(nn.Module):\n",
    "    def __init__(self, num_classes=10):\n",
    "        super(ResNet18MAML, self).__init__()\n",
    "        self.resnet = models.resnet18(weights='IMAGENET1K_V1') # Use 'weights' instead of 'pretrained'\n",
    "        self.resnet.fc = nn.Linear(self.resnet.fc.in_features, num_classes)  # Change output layer\n",
    "\n",
    "    def forward(self, x):\n",
    "        return self.resnet(x)"
   ],
   "id": "265a543ba63f0138",
   "outputs": [],
   "execution_count": 47
  },
  {
   "metadata": {
    "ExecuteTime": {
     "end_time": "2025-03-29T16:10:21.176888Z",
     "start_time": "2025-03-29T16:10:21.045361Z"
    }
   },
   "cell_type": "code",
   "source": [
    "model = ResNet18MAML(num_classes=10)\n",
    "maml = MAML(model)"
   ],
   "id": "24ba8d0d5054fab9",
   "outputs": [],
   "execution_count": 48
  },
  {
   "metadata": {
    "ExecuteTime": {
     "end_time": "2025-03-29T16:28:43.075685Z",
     "start_time": "2025-03-29T16:10:21.813155Z"
    }
   },
   "cell_type": "code",
   "source": "maml.meta_train(dataloader, epochs=30)",
   "id": "abc9add7bc0eeae6",
   "outputs": [
    {
     "name": "stdout",
     "output_type": "stream",
     "text": [
      "Epoch 1/30, Meta-Loss: 2.2694, Accuracy: 18.20%\n",
      "Epoch 2/30, Meta-Loss: 2.2356, Accuracy: 16.60%\n",
      "Epoch 3/30, Meta-Loss: 2.2384, Accuracy: 20.30%\n",
      "Epoch 4/30, Meta-Loss: 2.3180, Accuracy: 22.20%\n",
      "Epoch 5/30, Meta-Loss: 2.3077, Accuracy: 17.40%\n",
      "Epoch 6/30, Meta-Loss: 2.3088, Accuracy: 17.00%\n",
      "Epoch 7/30, Meta-Loss: 2.3772, Accuracy: 20.80%\n",
      "Epoch 8/30, Meta-Loss: 2.1979, Accuracy: 23.30%\n",
      "Epoch 9/30, Meta-Loss: 2.2891, Accuracy: 17.30%\n",
      "Epoch 10/30, Meta-Loss: 2.2231, Accuracy: 21.50%\n",
      "Epoch 11/30, Meta-Loss: 2.3260, Accuracy: 20.70%\n",
      "Epoch 12/30, Meta-Loss: 2.3390, Accuracy: 19.70%\n",
      "Epoch 13/30, Meta-Loss: 2.3027, Accuracy: 19.80%\n",
      "Epoch 14/30, Meta-Loss: 2.3206, Accuracy: 18.20%\n",
      "Epoch 15/30, Meta-Loss: 2.4277, Accuracy: 18.90%\n",
      "Epoch 16/30, Meta-Loss: 2.1952, Accuracy: 23.20%\n",
      "Epoch 17/30, Meta-Loss: 2.0985, Accuracy: 23.40%\n",
      "Epoch 18/30, Meta-Loss: 2.3289, Accuracy: 17.70%\n",
      "Epoch 19/30, Meta-Loss: 2.2675, Accuracy: 21.10%\n",
      "Epoch 20/30, Meta-Loss: 2.2076, Accuracy: 23.50%\n",
      "Epoch 21/30, Meta-Loss: 2.2400, Accuracy: 20.40%\n",
      "Epoch 22/30, Meta-Loss: 2.1340, Accuracy: 24.60%\n",
      "Epoch 23/30, Meta-Loss: 2.2902, Accuracy: 17.90%\n",
      "Epoch 24/30, Meta-Loss: 2.2427, Accuracy: 23.10%\n",
      "Epoch 25/30, Meta-Loss: 2.1808, Accuracy: 21.40%\n",
      "Epoch 26/30, Meta-Loss: 2.3012, Accuracy: 20.90%\n",
      "Epoch 27/30, Meta-Loss: 2.3086, Accuracy: 18.60%\n",
      "Epoch 28/30, Meta-Loss: 2.3356, Accuracy: 18.30%\n",
      "Epoch 29/30, Meta-Loss: 2.3458, Accuracy: 20.50%\n",
      "Epoch 30/30, Meta-Loss: 2.2289, Accuracy: 21.10%\n"
     ]
    }
   ],
   "execution_count": 49
  },
  {
   "metadata": {},
   "cell_type": "code",
   "outputs": [],
   "execution_count": null,
   "source": "",
   "id": "1cb6afd01b9f45c"
  }
 ],
 "metadata": {
  "kernelspec": {
   "display_name": "Python 3",
   "language": "python",
   "name": "python3"
  },
  "language_info": {
   "codemirror_mode": {
    "name": "ipython",
    "version": 2
   },
   "file_extension": ".py",
   "mimetype": "text/x-python",
   "name": "python",
   "nbconvert_exporter": "python",
   "pygments_lexer": "ipython2",
   "version": "2.7.6"
  }
 },
 "nbformat": 4,
 "nbformat_minor": 5
}
