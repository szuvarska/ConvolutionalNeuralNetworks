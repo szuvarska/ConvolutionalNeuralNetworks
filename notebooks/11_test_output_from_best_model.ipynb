{
 "cells": [
  {
   "cell_type": "markdown",
   "metadata": {},
   "source": [
    "Goal for this notebook is to check properties of outputs from best cnn model, how it responds to noise, classes that it correctly predicted, classes that it predicted wrongly, histogram of highest probability outputted (according to theory is should be heavy skewed to the right (it is sure always confident even if it is wrong))"
   ]
  },
  {
   "cell_type": "code",
   "execution_count": 1,
   "metadata": {},
   "outputs": [],
   "source": [
    "import sys\n",
    "\n",
    "sys.path.append(\"../src\")\n",
    "\n",
    "import torch\n",
    "from torch import nn\n",
    "\n",
    "import torchvision\n",
    "import torchvision.transforms as transforms\n",
    "\n",
    "import matplotlib.pyplot as plt\n",
    "from torchinfo import summary\n",
    "\n",
    "\n",
    "from baseline_model import BaselineModel\n",
    "from enhanced_model import EnhancedModel\n",
    "\n",
    "\n",
    "device = \"cuda\" if torch.cuda.is_available() else \"cpu\""
   ]
  },
  {
   "cell_type": "code",
   "execution_count": 5,
   "metadata": {},
   "outputs": [
    {
     "data": {
      "text/plain": [
       "==========================================================================================\n",
       "Layer (type:depth-idx)                   Output Shape              Param #\n",
       "==========================================================================================\n",
       "BaselineModel                            [64, 10]                  --\n",
       "├─Sequential: 1-1                        [64, 32, 16, 16]          --\n",
       "│    └─Conv2d: 2-1                       [64, 32, 32, 32]          896\n",
       "│    └─ReLU: 2-2                         [64, 32, 32, 32]          --\n",
       "│    └─Conv2d: 2-3                       [64, 32, 32, 32]          9,248\n",
       "│    └─ReLU: 2-4                         [64, 32, 32, 32]          --\n",
       "│    └─MaxPool2d: 2-5                    [64, 32, 16, 16]          --\n",
       "├─Sequential: 1-2                        [64, 32, 8, 8]            --\n",
       "│    └─Conv2d: 2-6                       [64, 32, 16, 16]          9,248\n",
       "│    └─ReLU: 2-7                         [64, 32, 16, 16]          --\n",
       "│    └─Conv2d: 2-8                       [64, 32, 16, 16]          9,248\n",
       "│    └─ReLU: 2-9                         [64, 32, 16, 16]          --\n",
       "│    └─MaxPool2d: 2-10                   [64, 32, 8, 8]            --\n",
       "├─Sequential: 1-3                        [64, 10]                  --\n",
       "│    └─Flatten: 2-11                     [64, 2048]                --\n",
       "│    └─Dropout: 2-12                     [64, 2048]                --\n",
       "│    └─Linear: 2-13                      [64, 10]                  20,490\n",
       "==========================================================================================\n",
       "Total params: 49,130\n",
       "Trainable params: 49,130\n",
       "Non-trainable params: 0\n",
       "Total mult-adds (Units.MEGABYTES): 969.15\n",
       "==========================================================================================\n",
       "Input size (MB): 0.79\n",
       "Forward/backward pass size (MB): 41.95\n",
       "Params size (MB): 0.20\n",
       "Estimated Total Size (MB): 42.93\n",
       "=========================================================================================="
      ]
     },
     "execution_count": 5,
     "metadata": {},
     "output_type": "execute_result"
    }
   ],
   "source": [
    "model = BaselineModel(input_shape=3, hidden_units=32, output_shape=10).to(device)\n",
    "\n",
    "summary(model, input_size=(64, 3, 32, 32))"
   ]
  },
  {
   "cell_type": "code",
   "execution_count": 2,
   "metadata": {},
   "outputs": [
    {
     "data": {
      "text/plain": [
       "==========================================================================================\n",
       "Layer (type:depth-idx)                   Output Shape              Param #\n",
       "==========================================================================================\n",
       "EnhancedModel                            [64, 10]                  --\n",
       "├─Sequential: 1-1                        [64, 64, 16, 16]          --\n",
       "│    └─Conv2d: 2-1                       [64, 64, 32, 32]          1,792\n",
       "│    └─ReLU: 2-2                         [64, 64, 32, 32]          --\n",
       "│    └─BatchNorm2d: 2-3                  [64, 64, 32, 32]          128\n",
       "│    └─Conv2d: 2-4                       [64, 64, 32, 32]          36,928\n",
       "│    └─ReLU: 2-5                         [64, 64, 32, 32]          --\n",
       "│    └─BatchNorm2d: 2-6                  [64, 64, 32, 32]          128\n",
       "│    └─MaxPool2d: 2-7                    [64, 64, 16, 16]          --\n",
       "├─Sequential: 1-2                        [64, 128, 8, 8]           --\n",
       "│    └─Conv2d: 2-8                       [64, 128, 16, 16]         73,856\n",
       "│    └─ReLU: 2-9                         [64, 128, 16, 16]         --\n",
       "│    └─BatchNorm2d: 2-10                 [64, 128, 16, 16]         256\n",
       "│    └─Conv2d: 2-11                      [64, 128, 16, 16]         147,584\n",
       "│    └─ReLU: 2-12                        [64, 128, 16, 16]         --\n",
       "│    └─BatchNorm2d: 2-13                 [64, 128, 16, 16]         256\n",
       "│    └─MaxPool2d: 2-14                   [64, 128, 8, 8]           --\n",
       "├─Sequential: 1-3                        [64, 256, 4, 4]           --\n",
       "│    └─Conv2d: 2-15                      [64, 256, 8, 8]           295,168\n",
       "│    └─ReLU: 2-16                        [64, 256, 8, 8]           --\n",
       "│    └─BatchNorm2d: 2-17                 [64, 256, 8, 8]           512\n",
       "│    └─Conv2d: 2-18                      [64, 256, 8, 8]           590,080\n",
       "│    └─ReLU: 2-19                        [64, 256, 8, 8]           --\n",
       "│    └─BatchNorm2d: 2-20                 [64, 256, 8, 8]           512\n",
       "│    └─MaxPool2d: 2-21                   [64, 256, 4, 4]           --\n",
       "├─AdaptiveAvgPool2d: 1-4                 [64, 256, 1, 1]           --\n",
       "├─Sequential: 1-5                        [64, 10]                  --\n",
       "│    └─Flatten: 2-22                     [64, 256]                 --\n",
       "│    └─Dropout: 2-23                     [64, 256]                 --\n",
       "│    └─Linear: 2-24                      [64, 10]                  2,570\n",
       "==========================================================================================\n",
       "Total params: 1,149,770\n",
       "Trainable params: 1,149,770\n",
       "Non-trainable params: 0\n",
       "Total mult-adds (Units.GIGABYTES): 9.79\n",
       "==========================================================================================\n",
       "Input size (MB): 0.79\n",
       "Forward/backward pass size (MB): 234.89\n",
       "Params size (MB): 4.60\n",
       "Estimated Total Size (MB): 240.27\n",
       "=========================================================================================="
      ]
     },
     "execution_count": 2,
     "metadata": {},
     "output_type": "execute_result"
    }
   ],
   "source": [
    "model = EnhancedModel(input_shape=3, hidden_units=64, output_shape=10).to(device)\n",
    "\n",
    "summary(model, input_size=(64, 3, 32, 32))"
   ]
  },
  {
   "cell_type": "markdown",
   "metadata": {},
   "source": [
    "We didn't have enough time to finish this notebook. But I think project is solid even without this notebook.s"
   ]
  }
 ],
 "metadata": {
  "kernelspec": {
   "display_name": "venv_deep_learning",
   "language": "python",
   "name": "python3"
  },
  "language_info": {
   "codemirror_mode": {
    "name": "ipython",
    "version": 3
   },
   "file_extension": ".py",
   "mimetype": "text/x-python",
   "name": "python",
   "nbconvert_exporter": "python",
   "pygments_lexer": "ipython3",
   "version": "3.12.3"
  }
 },
 "nbformat": 4,
 "nbformat_minor": 2
}
