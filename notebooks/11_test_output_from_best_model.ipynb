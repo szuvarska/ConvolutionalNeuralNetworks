{
 "cells": [
  {
   "cell_type": "markdown",
   "metadata": {},
   "source": [
    "Goal for this notebook is to check properties of outputs from best cnn model, how it responds to noise, classes that it correctly predicted, classes that it predicted wrongly, histogram of highest probability outputted (according to theory is should be heavy skewed to the right (it is sure always confident even if it is wrong))"
   ]
  }
 ],
 "metadata": {
  "language_info": {
   "name": "python"
  }
 },
 "nbformat": 4,
 "nbformat_minor": 2
}
