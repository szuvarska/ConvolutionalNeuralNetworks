{
 "cells": [
  {
   "cell_type": "code",
   "id": "initial_id",
   "metadata": {
    "collapsed": true,
    "ExecuteTime": {
     "end_time": "2025-03-30T13:30:54.709846Z",
     "start_time": "2025-03-30T13:30:46.323147Z"
    }
   },
   "source": "from src.few_shot_learning import load_cinic10, calculate_accuracy, plot_confusion_matrix, FewShotConvNeXt, train_few_shot_convnext, set_seed",
   "outputs": [],
   "execution_count": 1
  },
  {
   "metadata": {
    "ExecuteTime": {
     "end_time": "2025-03-30T13:30:54.720638Z",
     "start_time": "2025-03-30T13:30:54.710945Z"
    }
   },
   "cell_type": "code",
   "source": "set_seed(213)",
   "id": "58aca77eb4f69923",
   "outputs": [],
   "execution_count": 2
  },
  {
   "metadata": {
    "ExecuteTime": {
     "end_time": "2025-03-30T13:30:54.896155Z",
     "start_time": "2025-03-30T13:30:54.721452Z"
    }
   },
   "cell_type": "code",
   "source": [
    "data_dir = \"../../data\"\n",
    "dataset_name = \"augmented_cinic10_flip\"\n",
    "dataloader = load_cinic10(data_dir, few_shot_per_class=100, dataset_name=dataset_name, split=\"none\")"
   ],
   "id": "6b88e96e17fd410e",
   "outputs": [],
   "execution_count": 3
  },
  {
   "metadata": {
    "ExecuteTime": {
     "end_time": "2025-03-30T13:38:13.534351Z",
     "start_time": "2025-03-30T13:36:36.418077Z"
    }
   },
   "cell_type": "code",
   "source": [
    "model = FewShotConvNeXt()\n",
    "train_few_shot_convnext(model, dataloader, epochs=10, lr=0.0001)"
   ],
   "id": "bc43e2596afbca79",
   "outputs": [
    {
     "name": "stdout",
     "output_type": "stream",
     "text": [
      "Epoch [1/10], Loss: 106.5374, Accuracy: 41.70%\n",
      "Epoch [2/10], Loss: 42.5800, Accuracy: 75.90%\n",
      "Epoch [3/10], Loss: 16.0892, Accuracy: 92.30%\n",
      "Epoch [4/10], Loss: 8.5511, Accuracy: 95.20%\n",
      "Epoch [5/10], Loss: 1.7826, Accuracy: 99.20%\n",
      "Epoch [6/10], Loss: 2.5359, Accuracy: 98.50%\n",
      "Epoch [7/10], Loss: 2.9455, Accuracy: 98.40%\n",
      "Epoch [8/10], Loss: 8.2420, Accuracy: 95.80%\n",
      "Epoch [9/10], Loss: 5.8340, Accuracy: 96.90%\n",
      "Epoch [10/10], Loss: 10.5560, Accuracy: 94.90%\n"
     ]
    }
   ],
   "execution_count": 8
  },
  {
   "metadata": {
    "ExecuteTime": {
     "end_time": "2025-03-30T13:38:25.057215Z",
     "start_time": "2025-03-30T13:38:16.420318Z"
    }
   },
   "cell_type": "code",
   "source": "calculate_accuracy(model, data_dir, split='test')",
   "id": "42a0629004913176",
   "outputs": [
    {
     "name": "stdout",
     "output_type": "stream",
     "text": [
      "Accuracy on test set: 51.49%\n"
     ]
    },
    {
     "data": {
      "text/plain": [
       "51.49"
      ]
     },
     "execution_count": 9,
     "metadata": {},
     "output_type": "execute_result"
    }
   ],
   "execution_count": 9
  },
  {
   "metadata": {
    "ExecuteTime": {
     "end_time": "2025-03-30T13:35:43.250915Z",
     "start_time": "2025-03-30T13:34:05.245978Z"
    }
   },
   "cell_type": "code",
   "source": [
    "model = FewShotConvNeXt()\n",
    "train_few_shot_convnext(model, dataloader, epochs=10, lr=0.0001, weight_decay=1e-3)"
   ],
   "id": "4ddfb6b45d7d6a34",
   "outputs": [
    {
     "name": "stdout",
     "output_type": "stream",
     "text": [
      "Epoch [1/10], Loss: 115.4464, Accuracy: 36.60%\n",
      "Epoch [2/10], Loss: 50.1811, Accuracy: 72.00%\n",
      "Epoch [3/10], Loss: 14.2859, Accuracy: 93.20%\n",
      "Epoch [4/10], Loss: 4.9021, Accuracy: 98.20%\n",
      "Epoch [5/10], Loss: 0.7683, Accuracy: 99.70%\n",
      "Epoch [6/10], Loss: 0.1374, Accuracy: 100.00%\n",
      "Epoch [7/10], Loss: 0.0640, Accuracy: 100.00%\n",
      "Epoch [8/10], Loss: 0.0505, Accuracy: 100.00%\n",
      "Epoch [9/10], Loss: 0.0427, Accuracy: 100.00%\n",
      "Epoch [10/10], Loss: 0.0375, Accuracy: 100.00%\n"
     ]
    }
   ],
   "execution_count": 6
  },
  {
   "metadata": {
    "ExecuteTime": {
     "end_time": "2025-03-30T13:36:10.017809Z",
     "start_time": "2025-03-30T13:36:00.805434Z"
    }
   },
   "cell_type": "code",
   "source": "calculate_accuracy(model, data_dir, split='test')",
   "id": "dfdddd106a71ca7b",
   "outputs": [
    {
     "name": "stdout",
     "output_type": "stream",
     "text": [
      "Accuracy on test set: 59.09%\n"
     ]
    },
    {
     "data": {
      "text/plain": [
       "59.089999999999996"
      ]
     },
     "execution_count": 7,
     "metadata": {},
     "output_type": "execute_result"
    }
   ],
   "execution_count": 7
  },
  {
   "metadata": {
    "ExecuteTime": {
     "end_time": "2025-03-30T13:39:55.923476Z",
     "start_time": "2025-03-30T13:39:16.720722Z"
    }
   },
   "cell_type": "code",
   "source": [
    "dataloader = load_cinic10(data_dir, few_shot_per_class=30, dataset_name=dataset_name, split=\"none\")\n",
    "model = FewShotConvNeXt()\n",
    "train_few_shot_convnext(model, dataloader, epochs=10, lr=0.0001, weight_decay=1e-3)\n",
    "calculate_accuracy(model, data_dir, split='test')"
   ],
   "id": "a8b2de508b68b36c",
   "outputs": [
    {
     "name": "stdout",
     "output_type": "stream",
     "text": [
      "Epoch [1/10], Loss: 44.4070, Accuracy: 26.33%\n",
      "Epoch [2/10], Loss: 16.0201, Accuracy: 71.33%\n",
      "Epoch [3/10], Loss: 4.7837, Accuracy: 94.00%\n",
      "Epoch [4/10], Loss: 0.9655, Accuracy: 99.33%\n",
      "Epoch [5/10], Loss: 0.2584, Accuracy: 100.00%\n",
      "Epoch [6/10], Loss: 0.0978, Accuracy: 100.00%\n",
      "Epoch [7/10], Loss: 0.0661, Accuracy: 100.00%\n",
      "Epoch [8/10], Loss: 0.0465, Accuracy: 100.00%\n",
      "Epoch [9/10], Loss: 0.0393, Accuracy: 100.00%\n",
      "Epoch [10/10], Loss: 0.0341, Accuracy: 100.00%\n",
      "Accuracy on test set: 47.91%\n"
     ]
    },
    {
     "data": {
      "text/plain": [
       "47.910000000000004"
      ]
     },
     "execution_count": 10,
     "metadata": {},
     "output_type": "execute_result"
    }
   ],
   "execution_count": 10
  },
  {
   "metadata": {
    "ExecuteTime": {
     "end_time": "2025-03-30T13:46:23.203904Z",
     "start_time": "2025-03-30T13:42:52.256117Z"
    }
   },
   "cell_type": "code",
   "source": [
    "dataset_name = \"augmented_cinic10_jitter\"\n",
    "dataloader = load_cinic10(data_dir, few_shot_per_class=100, dataset_name=dataset_name, split=\"none\")\n",
    "model = FewShotConvNeXt()\n",
    "train_few_shot_convnext(model, dataloader, epochs=20, lr=0.0001, weight_decay=1e-3)\n",
    "calculate_accuracy(model, data_dir, split='test')"
   ],
   "id": "7ee969e1a3067fa8",
   "outputs": [
    {
     "name": "stdout",
     "output_type": "stream",
     "text": [
      "Epoch [1/20], Loss: 113.5952, Accuracy: 37.60%\n",
      "Epoch [2/20], Loss: 48.8577, Accuracy: 72.20%\n",
      "Epoch [3/20], Loss: 15.8119, Accuracy: 92.30%\n",
      "Epoch [4/20], Loss: 4.1649, Accuracy: 98.10%\n",
      "Epoch [5/20], Loss: 1.2214, Accuracy: 99.60%\n",
      "Epoch [6/20], Loss: 0.2260, Accuracy: 100.00%\n",
      "Epoch [7/20], Loss: 0.0998, Accuracy: 100.00%\n",
      "Epoch [8/20], Loss: 0.0689, Accuracy: 100.00%\n",
      "Epoch [9/20], Loss: 0.0583, Accuracy: 100.00%\n",
      "Epoch [10/20], Loss: 0.0511, Accuracy: 100.00%\n",
      "Epoch [11/20], Loss: 0.0459, Accuracy: 100.00%\n",
      "Epoch [12/20], Loss: 0.0422, Accuracy: 100.00%\n",
      "Epoch [13/20], Loss: 0.0389, Accuracy: 100.00%\n",
      "Epoch [14/20], Loss: 0.0365, Accuracy: 100.00%\n",
      "Epoch [15/20], Loss: 0.0348, Accuracy: 100.00%\n",
      "Epoch [16/20], Loss: 0.0337, Accuracy: 100.00%\n",
      "Epoch [17/20], Loss: 0.0327, Accuracy: 100.00%\n",
      "Epoch [18/20], Loss: 0.0320, Accuracy: 100.00%\n",
      "Epoch [19/20], Loss: 0.0306, Accuracy: 100.00%\n",
      "Epoch [20/20], Loss: 0.0298, Accuracy: 100.00%\n",
      "Accuracy on test set: 58.00%\n"
     ]
    },
    {
     "data": {
      "text/plain": [
       "57.99999999999999"
      ]
     },
     "execution_count": 12,
     "metadata": {},
     "output_type": "execute_result"
    }
   ],
   "execution_count": 12
  },
  {
   "metadata": {
    "ExecuteTime": {
     "end_time": "2025-03-30T13:49:52.793913Z",
     "start_time": "2025-03-30T13:46:23.205062Z"
    }
   },
   "cell_type": "code",
   "source": [
    "dataset_name = \"augmented_cinic10_rotation\"\n",
    "dataloader = load_cinic10(data_dir, few_shot_per_class=100, dataset_name=dataset_name, split=\"none\")\n",
    "model = FewShotConvNeXt()\n",
    "train_few_shot_convnext(model, dataloader, epochs=20, lr=0.0001, weight_decay=1e-3)\n",
    "calculate_accuracy(model, data_dir, split='test')"
   ],
   "id": "a82a316fa1e3c81a",
   "outputs": [
    {
     "name": "stdout",
     "output_type": "stream",
     "text": [
      "Epoch [1/20], Loss: 127.7513, Accuracy: 27.20%\n",
      "Epoch [2/20], Loss: 81.8386, Accuracy: 52.80%\n",
      "Epoch [3/20], Loss: 45.3516, Accuracy: 74.60%\n",
      "Epoch [4/20], Loss: 19.8900, Accuracy: 88.70%\n",
      "Epoch [5/20], Loss: 11.7269, Accuracy: 94.60%\n",
      "Epoch [6/20], Loss: 6.4311, Accuracy: 96.60%\n",
      "Epoch [7/20], Loss: 2.0005, Accuracy: 98.90%\n",
      "Epoch [8/20], Loss: 0.2876, Accuracy: 99.90%\n",
      "Epoch [9/20], Loss: 0.0634, Accuracy: 100.00%\n",
      "Epoch [10/20], Loss: 0.0292, Accuracy: 100.00%\n",
      "Epoch [11/20], Loss: 0.0249, Accuracy: 100.00%\n",
      "Epoch [12/20], Loss: 0.0229, Accuracy: 100.00%\n",
      "Epoch [13/20], Loss: 0.0212, Accuracy: 100.00%\n",
      "Epoch [14/20], Loss: 0.0199, Accuracy: 100.00%\n",
      "Epoch [15/20], Loss: 0.0194, Accuracy: 100.00%\n",
      "Epoch [16/20], Loss: 0.0186, Accuracy: 100.00%\n",
      "Epoch [17/20], Loss: 0.0185, Accuracy: 100.00%\n",
      "Epoch [18/20], Loss: 0.0182, Accuracy: 100.00%\n",
      "Epoch [19/20], Loss: 0.0179, Accuracy: 100.00%\n",
      "Epoch [20/20], Loss: 0.0180, Accuracy: 100.00%\n",
      "Accuracy on test set: 54.33%\n"
     ]
    },
    {
     "data": {
      "text/plain": [
       "54.33"
      ]
     },
     "execution_count": 13,
     "metadata": {},
     "output_type": "execute_result"
    }
   ],
   "execution_count": 13
  },
  {
   "metadata": {
    "ExecuteTime": {
     "end_time": "2025-03-30T13:53:24.852533Z",
     "start_time": "2025-03-30T13:49:52.795036Z"
    }
   },
   "cell_type": "code",
   "source": [
    "dataset_name = \"augmented_cinic10_mixed\"\n",
    "dataloader = load_cinic10(data_dir, few_shot_per_class=100, dataset_name=dataset_name, split=\"none\")\n",
    "model = FewShotConvNeXt()\n",
    "train_few_shot_convnext(model, dataloader, epochs=20, lr=0.0001, weight_decay=1e-3)\n",
    "calculate_accuracy(model, data_dir, split='test')"
   ],
   "id": "fd5e41e86567193d",
   "outputs": [
    {
     "name": "stdout",
     "output_type": "stream",
     "text": [
      "Epoch [1/20], Loss: 141.7148, Accuracy: 18.40%\n",
      "Epoch [2/20], Loss: 93.0301, Accuracy: 45.80%\n",
      "Epoch [3/20], Loss: 41.2366, Accuracy: 76.40%\n",
      "Epoch [4/20], Loss: 15.7806, Accuracy: 92.20%\n",
      "Epoch [5/20], Loss: 6.2030, Accuracy: 96.90%\n",
      "Epoch [6/20], Loss: 2.2985, Accuracy: 98.80%\n",
      "Epoch [7/20], Loss: 2.7758, Accuracy: 98.20%\n",
      "Epoch [8/20], Loss: 1.4485, Accuracy: 99.40%\n",
      "Epoch [9/20], Loss: 1.7631, Accuracy: 99.20%\n",
      "Epoch [10/20], Loss: 3.1700, Accuracy: 99.00%\n",
      "Epoch [11/20], Loss: 0.4028, Accuracy: 99.90%\n",
      "Epoch [12/20], Loss: 0.0277, Accuracy: 100.00%\n",
      "Epoch [13/20], Loss: 0.0191, Accuracy: 100.00%\n",
      "Epoch [14/20], Loss: 0.0171, Accuracy: 100.00%\n",
      "Epoch [15/20], Loss: 0.0161, Accuracy: 100.00%\n",
      "Epoch [16/20], Loss: 0.0149, Accuracy: 100.00%\n",
      "Epoch [17/20], Loss: 0.0145, Accuracy: 100.00%\n",
      "Epoch [18/20], Loss: 0.0145, Accuracy: 100.00%\n",
      "Epoch [19/20], Loss: 0.0141, Accuracy: 100.00%\n",
      "Epoch [20/20], Loss: 0.0142, Accuracy: 100.00%\n",
      "Accuracy on test set: 52.32%\n"
     ]
    },
    {
     "data": {
      "text/plain": [
       "52.32"
      ]
     },
     "execution_count": 14,
     "metadata": {},
     "output_type": "execute_result"
    }
   ],
   "execution_count": 14
  },
  {
   "metadata": {},
   "cell_type": "code",
   "outputs": [],
   "execution_count": null,
   "source": "",
   "id": "f4ab8cd893772c43"
  }
 ],
 "metadata": {
  "kernelspec": {
   "display_name": "Python 3",
   "language": "python",
   "name": "python3"
  },
  "language_info": {
   "codemirror_mode": {
    "name": "ipython",
    "version": 2
   },
   "file_extension": ".py",
   "mimetype": "text/x-python",
   "name": "python",
   "nbconvert_exporter": "python",
   "pygments_lexer": "ipython2",
   "version": "2.7.6"
  }
 },
 "nbformat": 4,
 "nbformat_minor": 5
}
