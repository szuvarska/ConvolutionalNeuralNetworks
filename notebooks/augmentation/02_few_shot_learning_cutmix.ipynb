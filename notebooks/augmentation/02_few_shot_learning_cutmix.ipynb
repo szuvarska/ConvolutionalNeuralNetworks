{
 "cells": [
  {
   "cell_type": "code",
   "id": "initial_id",
   "metadata": {
    "collapsed": true,
    "ExecuteTime": {
     "end_time": "2025-03-30T14:06:00.944147Z",
     "start_time": "2025-03-30T14:05:52.067208Z"
    }
   },
   "source": "from src.few_shot_learning import load_cinic10, calculate_accuracy, plot_confusion_matrix, FewShotConvNeXt, train_few_shot_convnext, set_seed",
   "outputs": [],
   "execution_count": 1
  },
  {
   "metadata": {
    "ExecuteTime": {
     "end_time": "2025-03-30T14:06:00.955121Z",
     "start_time": "2025-03-30T14:06:00.945291Z"
    }
   },
   "cell_type": "code",
   "source": "set_seed(213)",
   "id": "9521abbcbe972372",
   "outputs": [],
   "execution_count": 2
  },
  {
   "metadata": {
    "ExecuteTime": {
     "end_time": "2025-03-30T14:06:01.126509Z",
     "start_time": "2025-03-30T14:06:00.955833Z"
    }
   },
   "cell_type": "code",
   "source": [
    "data_dir = \"../../data\"\n",
    "dataset_name = \"augmented_cinic10_cutmix\"\n",
    "dataloader = load_cinic10(data_dir, few_shot_per_class=100, dataset_name=dataset_name, split=\"none\")"
   ],
   "id": "f3bd28163f2149dc",
   "outputs": [],
   "execution_count": 3
  },
  {
   "metadata": {
    "ExecuteTime": {
     "end_time": "2025-03-30T14:09:22.520883Z",
     "start_time": "2025-03-30T14:06:01.127337Z"
    }
   },
   "cell_type": "code",
   "source": [
    "model = FewShotConvNeXt()\n",
    "train_few_shot_convnext(model, dataloader, epochs=20, lr=0.0001, weight_decay=1e-3)\n",
    "calculate_accuracy(model, data_dir, split='test')"
   ],
   "id": "53338cee7b32f9f1",
   "outputs": [
    {
     "name": "stdout",
     "output_type": "stream",
     "text": [
      "Epoch [1/20], Loss: 149.8865, Accuracy: 18.90%\n",
      "Epoch [2/20], Loss: 114.2109, Accuracy: 35.80%\n",
      "Epoch [3/20], Loss: 70.4312, Accuracy: 62.20%\n",
      "Epoch [4/20], Loss: 19.6375, Accuracy: 90.70%\n",
      "Epoch [5/20], Loss: 8.4063, Accuracy: 96.10%\n",
      "Epoch [6/20], Loss: 5.2405, Accuracy: 97.40%\n",
      "Epoch [7/20], Loss: 1.9346, Accuracy: 98.80%\n",
      "Epoch [8/20], Loss: 0.8462, Accuracy: 99.60%\n",
      "Epoch [9/20], Loss: 0.0911, Accuracy: 100.00%\n",
      "Epoch [10/20], Loss: 0.0520, Accuracy: 100.00%\n",
      "Epoch [11/20], Loss: 0.0435, Accuracy: 100.00%\n",
      "Epoch [12/20], Loss: 0.0385, Accuracy: 100.00%\n",
      "Epoch [13/20], Loss: 0.0350, Accuracy: 100.00%\n",
      "Epoch [14/20], Loss: 0.0326, Accuracy: 100.00%\n",
      "Epoch [15/20], Loss: 0.0307, Accuracy: 100.00%\n",
      "Epoch [16/20], Loss: 0.0292, Accuracy: 100.00%\n",
      "Epoch [17/20], Loss: 0.0282, Accuracy: 100.00%\n",
      "Epoch [18/20], Loss: 0.0273, Accuracy: 100.00%\n",
      "Epoch [19/20], Loss: 0.0268, Accuracy: 100.00%\n",
      "Epoch [20/20], Loss: 0.0264, Accuracy: 100.00%\n",
      "Accuracy on test set: 41.98%\n"
     ]
    },
    {
     "data": {
      "text/plain": [
       "41.980000000000004"
      ]
     },
     "execution_count": 4,
     "metadata": {},
     "output_type": "execute_result"
    }
   ],
   "execution_count": 4
  },
  {
   "metadata": {
    "ExecuteTime": {
     "end_time": "2025-03-30T14:09:22.523340Z",
     "start_time": "2025-03-30T14:09:22.521933Z"
    }
   },
   "cell_type": "code",
   "source": "",
   "id": "edaa644b2977c161",
   "outputs": [],
   "execution_count": 4
  }
 ],
 "metadata": {
  "kernelspec": {
   "display_name": "Python 3",
   "language": "python",
   "name": "python3"
  },
  "language_info": {
   "codemirror_mode": {
    "name": "ipython",
    "version": 2
   },
   "file_extension": ".py",
   "mimetype": "text/x-python",
   "name": "python",
   "nbconvert_exporter": "python",
   "pygments_lexer": "ipython2",
   "version": "2.7.6"
  }
 },
 "nbformat": 4,
 "nbformat_minor": 5
}
