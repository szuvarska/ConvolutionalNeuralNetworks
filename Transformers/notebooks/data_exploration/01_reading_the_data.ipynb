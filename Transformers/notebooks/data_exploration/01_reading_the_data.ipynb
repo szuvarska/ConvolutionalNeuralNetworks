{
 "cells": [
  {
   "cell_type": "code",
   "execution_count": 1,
   "metadata": {},
   "outputs": [
    {
     "name": "stdout",
     "output_type": "stream",
     "text": [
      "hello world\n"
     ]
    }
   ],
   "source": [
    "print(\"hello world\")"
   ]
  },
  {
   "cell_type": "code",
   "execution_count": 1,
   "metadata": {},
   "outputs": [],
   "source": [
    "import torch\n",
    "import torchaudio"
   ]
  },
  {
   "cell_type": "markdown",
   "metadata": {},
   "source": [
    "Okay so we have to write a custom dataset class no biggie, but the project description says to focus on silence and unknown but there is no such labels \n",
    "\n",
    "I guess for unknown you can make argument that special words like marvin, sheila, happy can serve as unknown but not sure about silence.\n",
    "\n",
    "Okay case closed we are supposed to create it ourselves based on background_noise_ directory "
   ]
  },
  {
   "cell_type": "markdown",
   "metadata": {},
   "source": [
    "Goal for this notebook is to prepare data. I'm assuming that in /data\n",
    "directory should be extracted contents of train archive:\n",
    "\n",
    "- `audio` directory \n",
    "- testing_list.txt\n",
    "- validation_list.txt"
   ]
  },
  {
   "cell_type": "markdown",
   "metadata": {},
   "source": [
    "I'm gonna create three directories in /data\n",
    "\n",
    "- `train`\n",
    "- `test`\n",
    "- `validation`\n",
    "\n",
    "im gonna add new class to each: silence"
   ]
  },
  {
   "cell_type": "markdown",
   "metadata": {},
   "source": []
  }
 ],
 "metadata": {
  "kernelspec": {
   "display_name": "transformer_venv",
   "language": "python",
   "name": "python3"
  },
  "language_info": {
   "codemirror_mode": {
    "name": "ipython",
    "version": 3
   },
   "file_extension": ".py",
   "mimetype": "text/x-python",
   "name": "python",
   "nbconvert_exporter": "python",
   "pygments_lexer": "ipython3",
   "version": "3.12.3"
  }
 },
 "nbformat": 4,
 "nbformat_minor": 2
}
