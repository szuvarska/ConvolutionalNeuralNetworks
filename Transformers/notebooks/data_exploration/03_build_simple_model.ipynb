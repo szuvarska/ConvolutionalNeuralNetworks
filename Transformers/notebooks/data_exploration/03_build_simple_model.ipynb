{
 "cells": [
  {
   "cell_type": "code",
   "execution_count": null,
   "id": "70c2ee41",
   "metadata": {},
   "outputs": [],
   "source": [
    "import sys\n",
    "\n",
    "sys.path.append(\"./../../src\")\n",
    "\n",
    "\n",
    "from Dataset import SpeechCommandsDataset\n",
    "from torch.utils.data import DataLoader\n",
    "import torch\n",
    "import torch.nn as nn\n",
    "\n",
    "\n",
    "device = torch.device(\"cuda\" if torch.cuda.is_available() else \"cpu\")"
   ]
  },
  {
   "cell_type": "code",
   "execution_count": 8,
   "id": "922c7f4a",
   "metadata": {},
   "outputs": [],
   "source": [
    "train_dataset = SpeechCommandsDataset(\"./../../data/train\")\n",
    "\n",
    "train_loader = DataLoader(train_dataset, batch_size=64, shuffle=True, num_workers=6)"
   ]
  },
  {
   "cell_type": "code",
   "execution_count": null,
   "id": "094862f7",
   "metadata": {},
   "outputs": [],
   "source": [
    "class SpeechCommandRNN(nn.Module):\n",
    "    def __init__(self, input_size=40, hidden_size=128, num_layers=2, num_classes=35):\n",
    "        super(SpeechCommandRNN, self).__init__()\n",
    "\n",
    "        # Apply a 1D Conv to reduce dimensionality and extract features\n",
    "        self.conv = nn.Sequential(\n",
    "            nn.Conv1d(1, 32, kernel_size=80, stride=40),  # (16000 -> 400)\n",
    "            nn.ReLU(),\n",
    "            nn.Conv1d(32, input_size, kernel_size=3, padding=1),\n",
    "            nn.ReLU(),\n",
    "        )\n",
    "\n",
    "        # RNN\n",
    "        self.rnn = nn.GRU(\n",
    "            input_size=input_size,\n",
    "            hidden_size=hidden_size,\n",
    "            num_layers=num_layers,\n",
    "            batch_first=True,\n",
    "            bidirectional=True,\n",
    "        )\n",
    "\n",
    "        # Output layer\n",
    "        self.fc = nn.Linear(hidden_size * 2, num_classes)\n",
    "\n",
    "    def forward(self, x):\n",
    "        x = x.squeeze(1)\n",
    "        x = x.unsqueeze(1)  # (batch, 1, 16000)\n",
    "        x = self.conv(x)  # (batch, input_size, time_steps)\n",
    "        x = x.permute(0, 2, 1)  # (batch, time_steps, input_size)\n",
    "        out, _ = self.rnn(x)  # (batch, time_steps, hidden_size*2)\n",
    "        out = out[:, -1, :]  # Use last timestep\n",
    "        out = self.fc(out)  # (batch, num_classes)\n",
    "        return out"
   ]
  },
  {
   "cell_type": "code",
   "execution_count": 10,
   "id": "e4f6fb75",
   "metadata": {},
   "outputs": [
    {
     "name": "stdout",
     "output_type": "stream",
     "text": [
      "Epoch 1, Loss: 3.4002\n",
      "Epoch 2, Loss: 3.3987\n",
      "Epoch 3, Loss: 3.4656\n",
      "Epoch 4, Loss: 0.9384\n",
      "Epoch 5, Loss: 0.9320\n",
      "Epoch 6, Loss: 0.5614\n",
      "Epoch 7, Loss: 0.4878\n",
      "Epoch 8, Loss: 0.5486\n",
      "Epoch 9, Loss: 0.1285\n",
      "Epoch 10, Loss: 0.4356\n"
     ]
    }
   ],
   "source": [
    "model = SpeechCommandRNN(num_classes=30).to(device)\n",
    "criterion = nn.CrossEntropyLoss()\n",
    "optimizer = torch.optim.Adam(model.parameters(), lr=0.001)\n",
    "\n",
    "# Training loop\n",
    "for epoch in range(10):\n",
    "    model.train()\n",
    "    for waveforms, labels in train_loader:\n",
    "        waveforms, labels = waveforms.to(device), labels.to(device)\n",
    "        outputs = model(waveforms)\n",
    "        loss = criterion(outputs, labels)\n",
    "\n",
    "        optimizer.zero_grad()\n",
    "        loss.backward()\n",
    "        optimizer.step()\n",
    "\n",
    "    print(f\"Epoch {epoch+1}, Loss: {loss.item():.4f}\")"
   ]
  },
  {
   "cell_type": "code",
   "execution_count": 11,
   "id": "b0e0abea",
   "metadata": {},
   "outputs": [
    {
     "name": "stdout",
     "output_type": "stream",
     "text": [
      "Epoch 1, Loss: 3.4109\n",
      "Epoch 2, Loss: 3.3893\n",
      "Epoch 3, Loss: 3.3449\n",
      "Epoch 4, Loss: 1.6897\n",
      "Epoch 5, Loss: 0.4870\n",
      "Epoch 6, Loss: 0.8981\n",
      "Epoch 7, Loss: 0.4208\n",
      "Epoch 8, Loss: 0.3664\n",
      "Epoch 9, Loss: 0.2690\n",
      "Epoch 10, Loss: 0.2942\n"
     ]
    }
   ],
   "source": [
    "train_dataset = SpeechCommandsDataset(\"./../../data/train\")\n",
    "\n",
    "train_loader = DataLoader(train_dataset, batch_size=64, shuffle=True, num_workers=12)\n",
    "\n",
    "model = SpeechCommandRNN(num_classes=30).to(device)\n",
    "criterion = nn.CrossEntropyLoss()\n",
    "optimizer = torch.optim.Adam(model.parameters(), lr=0.001)\n",
    "\n",
    "# Training loop\n",
    "for epoch in range(10):\n",
    "    model.train()\n",
    "    for waveforms, labels in train_loader:\n",
    "        waveforms, labels = waveforms.to(device), labels.to(device)\n",
    "        outputs = model(waveforms)\n",
    "        loss = criterion(outputs, labels)\n",
    "\n",
    "        optimizer.zero_grad()\n",
    "        loss.backward()\n",
    "        optimizer.step()\n",
    "\n",
    "    print(f\"Epoch {epoch+1}, Loss: {loss.item():.4f}\")"
   ]
  },
  {
   "cell_type": "code",
   "execution_count": 16,
   "id": "3c6feffd",
   "metadata": {},
   "outputs": [
    {
     "name": "stdout",
     "output_type": "stream",
     "text": [
      "Epoch 1, Loss: 3.3854\n",
      "Epoch 2, Loss: 3.3965\n",
      "Epoch 3, Loss: 3.4031\n",
      "Epoch 4, Loss: 3.3818\n",
      "Epoch 5, Loss: 3.4566\n",
      "Epoch 6, Loss: 1.8159\n",
      "Epoch 7, Loss: 1.3793\n",
      "Epoch 8, Loss: 0.4796\n",
      "Epoch 9, Loss: 0.7491\n",
      "Epoch 10, Loss: 0.6969\n"
     ]
    }
   ],
   "source": [
    "train_dataset = SpeechCommandsDataset(\"./../../data/train\")\n",
    "\n",
    "train_loader = DataLoader(\n",
    "    train_dataset,\n",
    "    batch_size=32,\n",
    "    shuffle=True,\n",
    "    num_workers=12,\n",
    "    pin_memory=True,\n",
    "    persistent_workers=True,\n",
    ")\n",
    "\n",
    "model = SpeechCommandRNN(num_classes=30).to(device)\n",
    "criterion = nn.CrossEntropyLoss()\n",
    "optimizer = torch.optim.Adam(model.parameters(), lr=0.001)\n",
    "\n",
    "# Training loop\n",
    "for epoch in range(10):\n",
    "    model.train()\n",
    "    for waveforms, labels in train_loader:\n",
    "        waveforms, labels = waveforms.to(device), labels.to(device)\n",
    "        outputs = model(waveforms)\n",
    "        loss = criterion(outputs, labels)\n",
    "\n",
    "        optimizer.zero_grad()\n",
    "        loss.backward()\n",
    "        optimizer.step()\n",
    "\n",
    "    print(f\"Epoch {epoch+1}, Loss: {loss.item():.4f}\")"
   ]
  },
  {
   "cell_type": "markdown",
   "id": "972c3832",
   "metadata": {},
   "source": [
    "I check 128 previously and now 32, 64 seems like a sweet spot might test it later"
   ]
  },
  {
   "cell_type": "code",
   "execution_count": 17,
   "id": "4b1fbc10",
   "metadata": {},
   "outputs": [
    {
     "name": "stdout",
     "output_type": "stream",
     "text": [
      "Test Accuracy: 77.22%\n"
     ]
    }
   ],
   "source": [
    "test_dataset = SpeechCommandsDataset(\"./../../data/test\")\n",
    "test_loader = DataLoader(test_dataset, batch_size=64, shuffle=False)\n",
    "\n",
    "\n",
    "def evaluate(model, dataloader, device):\n",
    "    model.eval()\n",
    "    correct = 0\n",
    "    total = 0\n",
    "\n",
    "    with torch.no_grad():\n",
    "        for waveforms, labels in dataloader:\n",
    "            waveforms, labels = waveforms.to(device), labels.to(device)\n",
    "            outputs = model(waveforms)  # shape: (batch_size, num_classes)\n",
    "            _, predicted = torch.max(outputs, 1)  # Get predicted class index\n",
    "            correct += (predicted == labels).sum().item()\n",
    "            total += labels.size(0)\n",
    "\n",
    "    accuracy = correct / total\n",
    "    return accuracy\n",
    "\n",
    "\n",
    "test_accuracy = evaluate(model, test_loader, device)\n",
    "print(f\"Test Accuracy: {test_accuracy:.2%}\")"
   ]
  },
  {
   "cell_type": "markdown",
   "id": "d59a25e2",
   "metadata": {},
   "source": [
    "Hmm its not even best model and it has 77% accuracy. Am I genius?"
   ]
  },
  {
   "cell_type": "code",
   "execution_count": 20,
   "id": "247ae5ed",
   "metadata": {},
   "outputs": [
    {
     "ename": "AttributeError",
     "evalue": "'SpeechCommandsDataset' object has no attribute 'class_to_idx'",
     "output_type": "error",
     "traceback": [
      "\u001b[31m---------------------------------------------------------------------------\u001b[39m",
      "\u001b[31mAttributeError\u001b[39m                            Traceback (most recent call last)",
      "\u001b[36mCell\u001b[39m\u001b[36m \u001b[39m\u001b[32mIn[20]\u001b[39m\u001b[32m, line 24\u001b[39m\n\u001b[32m     21\u001b[39m true_labels, pred_labels = get_all_preds(model, test_loader, device)\n\u001b[32m     23\u001b[39m \u001b[38;5;66;03m# Optional: get label names\u001b[39;00m\n\u001b[32m---> \u001b[39m\u001b[32m24\u001b[39m label_names = \u001b[38;5;28mlist\u001b[39m(\u001b[43mtest_dataset\u001b[49m\u001b[43m.\u001b[49m\u001b[43mclass_to_idx\u001b[49m.keys())\n\u001b[32m     26\u001b[39m \u001b[38;5;66;03m# Compute confusion matrix\u001b[39;00m\n\u001b[32m     27\u001b[39m cm = confusion_matrix(true_labels, pred_labels)\n",
      "\u001b[31mAttributeError\u001b[39m: 'SpeechCommandsDataset' object has no attribute 'class_to_idx'"
     ]
    }
   ],
   "source": [
    "from sklearn.metrics import confusion_matrix, ConfusionMatrixDisplay\n",
    "import matplotlib.pyplot as plt\n",
    "\n",
    "\n",
    "def get_all_preds(model, dataloader, device):\n",
    "    model.eval()\n",
    "    all_preds = []\n",
    "    all_labels = []\n",
    "\n",
    "    with torch.no_grad():\n",
    "        for waveforms, labels in dataloader:\n",
    "            waveforms, labels = waveforms.to(device), labels.to(device)\n",
    "            outputs = model(waveforms)\n",
    "            _, predicted = torch.max(outputs, 1)\n",
    "            all_preds.extend(predicted.cpu().numpy())\n",
    "            all_labels.extend(labels.cpu().numpy())\n",
    "\n",
    "    return all_labels, all_preds\n",
    "\n",
    "\n",
    "true_labels, pred_labels = get_all_preds(model, test_loader, device)\n",
    "\n",
    "# Optional: get label names\n",
    "label_names = list(test_dataset.class_to_idx.keys())\n",
    "\n",
    "# Compute confusion matrix\n",
    "cm = confusion_matrix(true_labels, pred_labels)\n",
    "\n",
    "# Plot it\n",
    "disp = ConfusionMatrixDisplay(confusion_matrix=cm, display_labels=label_names)\n",
    "fig, ax = plt.subplots(figsize=(12, 12))\n",
    "disp.plot(include_values=True, xticks_rotation=\"vertical\", ax=ax, cmap=\"Blues\")\n",
    "plt.title(\"Confusion Matrix\")\n",
    "plt.show()"
   ]
  },
  {
   "cell_type": "code",
   "execution_count": null,
   "id": "3e48f3cc",
   "metadata": {},
   "outputs": [],
   "source": []
  }
 ],
 "metadata": {
  "kernelspec": {
   "display_name": "transformer_venv",
   "language": "python",
   "name": "python3"
  },
  "language_info": {
   "codemirror_mode": {
    "name": "ipython",
    "version": 3
   },
   "file_extension": ".py",
   "mimetype": "text/x-python",
   "name": "python",
   "nbconvert_exporter": "python",
   "pygments_lexer": "ipython3",
   "version": "3.12.3"
  }
 },
 "nbformat": 4,
 "nbformat_minor": 5
}
