{
 "cells": [
  {
   "cell_type": "code",
   "execution_count": 2,
   "metadata": {},
   "outputs": [],
   "source": [
    "import sys\n",
    "\n",
    "sys.path.append(\"./../../src\")\n",
    "\n",
    "\n",
    "from utils import collate_fn\n",
    "from Dataset import SpeechCommandsDataset\n",
    "from torch.utils.data import DataLoader"
   ]
  },
  {
   "cell_type": "code",
   "execution_count": 3,
   "metadata": {},
   "outputs": [
    {
     "name": "stdout",
     "output_type": "stream",
     "text": [
      "Waveform 0 shape: torch.Size([1, 16000])\n",
      "Waveform 1 shape: torch.Size([1, 16000])\n",
      "Waveform 2 shape: torch.Size([1, 16000])\n",
      "Waveform 3 shape: torch.Size([1, 11889])\n",
      "Waveform 4 shape: torch.Size([1, 16000])\n",
      "Waveform 5 shape: torch.Size([1, 16000])\n",
      "Waveform 6 shape: torch.Size([1, 16000])\n",
      "Waveform 7 shape: torch.Size([1, 16000])\n",
      "Waveform 8 shape: torch.Size([1, 16000])\n",
      "Waveform 9 shape: torch.Size([1, 16000])\n",
      "Waveform 10 shape: torch.Size([1, 16000])\n",
      "Waveform 11 shape: torch.Size([1, 16000])\n",
      "Waveform 12 shape: torch.Size([1, 16000])\n",
      "Waveform 13 shape: torch.Size([1, 16000])\n",
      "Waveform 14 shape: torch.Size([1, 16000])\n",
      "Waveform 15 shape: torch.Size([1, 16000])\n",
      "Waveform 16 shape: torch.Size([1, 16000])\n",
      "Waveform 17 shape: torch.Size([1, 16000])\n",
      "Waveform 18 shape: torch.Size([1, 16000])\n",
      "Waveform 19 shape: torch.Size([1, 16000])\n",
      "Waveform 20 shape: torch.Size([1, 16000])\n",
      "Waveform 21 shape: torch.Size([1, 16000])\n",
      "Waveform 22 shape: torch.Size([1, 16000])\n",
      "Waveform 23 shape: torch.Size([1, 16000])\n",
      "Waveform 24 shape: torch.Size([1, 16000])\n",
      "Waveform 25 shape: torch.Size([1, 16000])\n",
      "Waveform 26 shape: torch.Size([1, 16000])\n",
      "Waveform 27 shape: torch.Size([1, 16000])\n",
      "Waveform 28 shape: torch.Size([1, 16000])\n",
      "Waveform 29 shape: torch.Size([1, 16000])\n",
      "Waveform 30 shape: torch.Size([1, 16000])\n",
      "Waveform 31 shape: torch.Size([1, 16000])\n",
      "Waveform 32 shape: torch.Size([1, 16000])\n",
      "Waveform 33 shape: torch.Size([1, 16000])\n",
      "Waveform 34 shape: torch.Size([1, 16000])\n",
      "Waveform 35 shape: torch.Size([1, 16000])\n",
      "Waveform 36 shape: torch.Size([1, 16000])\n",
      "Waveform 37 shape: torch.Size([1, 16000])\n",
      "Waveform 38 shape: torch.Size([1, 16000])\n",
      "Waveform 39 shape: torch.Size([1, 16000])\n",
      "tensor([22, 17, 12, 20, 11, 18, 26,  7, 28, 16, 20, 19, 17, 12, 21, 16,  7, 13,\n",
      "         2,  7, 16, 21,  5,  1,  3,  6, 12, 26,  2, 20, 11, 25, 22, 16, 16,  6,\n",
      "        25,  6,  5,  7])\n"
     ]
    }
   ],
   "source": [
    "train_dataset = SpeechCommandsDataset(\"./../../data/train\")\n",
    "\n",
    "train_loader = DataLoader(\n",
    "    train_dataset, batch_size=40, shuffle=True, collate_fn=collate_fn\n",
    ")\n",
    "\n",
    "for batch in train_loader:\n",
    "    waveforms, labels = batch\n",
    "    for i, waveform in enumerate(waveforms):\n",
    "        print(f\"Waveform {i} shape: {waveform.shape}\")\n",
    "    print(labels)\n",
    "    break"
   ]
  },
  {
   "cell_type": "code",
   "execution_count": null,
   "metadata": {},
   "outputs": [],
   "source": []
  }
 ],
 "metadata": {
  "kernelspec": {
   "display_name": "transformer_venv",
   "language": "python",
   "name": "python3"
  },
  "language_info": {
   "codemirror_mode": {
    "name": "ipython",
    "version": 3
   },
   "file_extension": ".py",
   "mimetype": "text/x-python",
   "name": "python",
   "nbconvert_exporter": "python",
   "pygments_lexer": "ipython3",
   "version": "3.12.3"
  }
 },
 "nbformat": 4,
 "nbformat_minor": 2
}
