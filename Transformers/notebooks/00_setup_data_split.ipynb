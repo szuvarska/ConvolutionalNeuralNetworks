{
 "cells": [
  {
   "cell_type": "markdown",
   "metadata": {},
   "source": [
    "This is (script) that creates out of download from kaggle data, a nice structure that is easy to work with, similar setup like in first project where you had 3 directories: **train**, **test**, **validation**, with silence data created out of long audio tracks. I prefer to do it once, save it in local directory and not worry about it in the future.\n",
    "\n",
    "I expect in data directory sub-directory `audio`, and 2 files `testing_list.txt` and `validation_list.txt`."
   ]
  },
  {
   "cell_type": "code",
   "execution_count": 10,
   "metadata": {},
   "outputs": [],
   "source": [
    "import os\n",
    "import shutil\n",
    "from pathlib import Path"
   ]
  },
  {
   "cell_type": "code",
   "execution_count": 11,
   "metadata": {},
   "outputs": [],
   "source": [
    "base_dir = \"./../data\"\n",
    "audio_dir = os.path.join(base_dir, \"audio\")\n",
    "testing_file = os.path.join(base_dir, \"testing_list.txt\")\n",
    "validation_file = os.path.join(base_dir, \"validation_list.txt\")\n",
    "\n",
    "all_exist = True\n",
    "\n",
    "if not os.path.isdir(audio_dir):\n",
    "    print(f\"Missing directory: {audio_dir}\")\n",
    "    all_exist = False\n",
    "\n",
    "if not os.path.isfile(testing_file):\n",
    "    print(f\"Missing file: {testing_file}\")\n",
    "    all_exist = False\n",
    "\n",
    "if not os.path.isfile(validation_file):\n",
    "    print(f\"Missing file: {validation_file}\")\n",
    "    all_exist = False\n",
    "\n",
    "\n",
    "if not all_exist:\n",
    "    raise FileNotFoundError(\"One o the required file was not found.\")"
   ]
  },
  {
   "cell_type": "code",
   "execution_count": 12,
   "metadata": {},
   "outputs": [],
   "source": [
    "with open(testing_file, \"r\") as f:\n",
    "    testing_list = f.read().splitlines()\n",
    "\n",
    "with open(validation_file, \"r\") as f:\n",
    "    validation_list = f.read().splitlines()"
   ]
  },
  {
   "cell_type": "code",
   "execution_count": 20,
   "metadata": {},
   "outputs": [
    {
     "name": "stdout",
     "output_type": "stream",
     "text": [
      "Read 64727 files\n",
      "Dataset restructured into train/test/validation successfully.\n"
     ]
    }
   ],
   "source": [
    "base_dir = Path(\"./../data\")\n",
    "audio_dir = base_dir / \"audio\"\n",
    "for split in [\"train\", \"test\", \"validation\"]:\n",
    "    (base_dir / split).mkdir(parents=True, exist_ok=True)\n",
    "\n",
    "# Collect all .wav files from the dataset\n",
    "all_audio_files = list(audio_dir.rglob(\"*.wav\"))\n",
    "print(f\"Read {len(all_audio_files)} files\")\n",
    "\n",
    "# Distribute files into correct folders\n",
    "for audio_file in all_audio_files:\n",
    "    rel_path = audio_file.relative_to(audio_dir).as_posix()\n",
    "\n",
    "    if rel_path in testing_list:\n",
    "        dest_dir = base_dir / \"test\"\n",
    "    elif rel_path in validation_list:\n",
    "        dest_dir = base_dir / \"validation\"\n",
    "    else:\n",
    "        dest_dir = base_dir / \"train\"\n",
    "\n",
    "    target_path = dest_dir / rel_path\n",
    "    target_path.parent.mkdir(parents=True, exist_ok=True)\n",
    "    shutil.copy2(audio_file, target_path)\n",
    "\n",
    "print(\"Dataset restructured into train/test/validation successfully.\")"
   ]
  },
  {
   "cell_type": "code",
   "execution_count": null,
   "metadata": {},
   "outputs": [],
   "source": []
  }
 ],
 "metadata": {
  "kernelspec": {
   "display_name": "transformer_venv",
   "language": "python",
   "name": "python3"
  },
  "language_info": {
   "codemirror_mode": {
    "name": "ipython",
    "version": 3
   },
   "file_extension": ".py",
   "mimetype": "text/x-python",
   "name": "python",
   "nbconvert_exporter": "python",
   "pygments_lexer": "ipython3",
   "version": "3.12.3"
  }
 },
 "nbformat": 4,
 "nbformat_minor": 2
}
