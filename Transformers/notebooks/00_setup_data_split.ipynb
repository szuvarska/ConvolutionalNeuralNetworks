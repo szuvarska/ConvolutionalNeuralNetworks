{
 "cells": [
  {
   "cell_type": "markdown",
   "metadata": {},
   "source": [
    "This is (script) that creates out of download from kaggle data, a nice structure that is easy to work with, similar setup like in first project where you had 3 directories: **train**, **test**, **validation**, with silence data created out of long audio tracks. I prefer to do it once, save it in local directory and not worry about it in the future.\n",
    "\n",
    "**Download only train.7z, then after extraction move only it's CONTENTS to data directory.**\n",
    "\n",
    "I expect in data directory sub-directory `audio`, and 2 files `testing_list.txt` and `validation_list.txt`."
   ]
  },
  {
   "cell_type": "code",
   "execution_count": 1,
   "metadata": {},
   "outputs": [],
   "source": [
    "import os\n",
    "import shutil\n",
    "from pathlib import Path"
   ]
  },
  {
   "cell_type": "code",
   "execution_count": 2,
   "metadata": {},
   "outputs": [],
   "source": [
    "base_dir = \"./../data\"\n",
    "audio_dir = os.path.join(base_dir, \"audio\")\n",
    "testing_file = os.path.join(base_dir, \"testing_list.txt\")\n",
    "validation_file = os.path.join(base_dir, \"validation_list.txt\")\n",
    "\n",
    "all_exist = True\n",
    "\n",
    "if not os.path.isdir(audio_dir):\n",
    "    print(f\"Missing directory: {audio_dir}\")\n",
    "    all_exist = False\n",
    "\n",
    "if not os.path.isfile(testing_file):\n",
    "    print(f\"Missing file: {testing_file}\")\n",
    "    all_exist = False\n",
    "\n",
    "if not os.path.isfile(validation_file):\n",
    "    print(f\"Missing file: {validation_file}\")\n",
    "    all_exist = False\n",
    "\n",
    "\n",
    "if not all_exist:\n",
    "    raise FileNotFoundError(\"One o the required file was not found.\")"
   ]
  },
  {
   "cell_type": "code",
   "execution_count": 3,
   "metadata": {},
   "outputs": [],
   "source": [
    "with open(testing_file, \"r\") as f:\n",
    "    testing_list = f.read().splitlines()\n",
    "\n",
    "with open(validation_file, \"r\") as f:\n",
    "    validation_list = f.read().splitlines()"
   ]
  },
  {
   "cell_type": "code",
   "execution_count": 4,
   "metadata": {},
   "outputs": [
    {
     "name": "stdout",
     "output_type": "stream",
     "text": [
      "Read 64727 files\n",
      "Dataset restructured into train/test/validation successfully.\n"
     ]
    }
   ],
   "source": [
    "base_dir = Path(\"./../data\")\n",
    "audio_dir = base_dir / \"audio\"\n",
    "for split in [\"train\", \"test\", \"validation\"]:\n",
    "    (base_dir / split).mkdir(parents=True, exist_ok=True)\n",
    "\n",
    "# Collect all .wav files from the dataset\n",
    "all_audio_files = list(audio_dir.rglob(\"*.wav\"))\n",
    "print(f\"Read {len(all_audio_files)} files\")\n",
    "\n",
    "# Distribute files into correct folders\n",
    "for audio_file in all_audio_files:\n",
    "    rel_path = audio_file.relative_to(audio_dir).as_posix()\n",
    "\n",
    "    if rel_path in testing_list:\n",
    "        dest_dir = base_dir / \"test\"\n",
    "    elif rel_path in validation_list:\n",
    "        dest_dir = base_dir / \"validation\"\n",
    "    else:\n",
    "        dest_dir = base_dir / \"train\"\n",
    "\n",
    "    target_path = dest_dir / rel_path\n",
    "    target_path.parent.mkdir(parents=True, exist_ok=True)\n",
    "    shutil.copy2(audio_file, target_path)\n",
    "\n",
    "print(\"Dataset restructured into train/test/validation successfully.\")"
   ]
  },
  {
   "cell_type": "code",
   "execution_count": 5,
   "metadata": {},
   "outputs": [
    {
     "name": "stdout",
     "output_type": "stream",
     "text": [
      "Moved _background_noise_ to data directory.\n",
      "Removed original audio directory.\n"
     ]
    }
   ],
   "source": [
    "background_src = base_dir / \"train\" / \"_background_noise_\"\n",
    "background_dst = base_dir / \"_background_noise_\"\n",
    "\n",
    "if background_src.exists():\n",
    "    shutil.move(str(background_src), str(background_dst))\n",
    "    print(\"Moved _background_noise_ to data directory.\")\n",
    "else:\n",
    "    print(\"_background_noise_ not found in train/\")\n",
    "\n",
    "if audio_dir.exists():\n",
    "    shutil.rmtree(audio_dir)\n",
    "    print(\"Removed original audio directory.\")\n",
    "else:\n",
    "    print(\"audio directory not found or already removed.\")"
   ]
  },
  {
   "cell_type": "code",
   "execution_count": null,
   "metadata": {},
   "outputs": [],
   "source": [
    "# sudo apt install ffmpeg - run in terminal"
   ]
  },
  {
   "cell_type": "code",
   "execution_count": 37,
   "metadata": {},
   "outputs": [],
   "source": [
    "import os\n",
    "from pathlib import Path\n",
    "from pydub import AudioSegment"
   ]
  },
  {
   "cell_type": "code",
   "execution_count": 38,
   "metadata": {},
   "outputs": [],
   "source": [
    "base_dir = Path(\"./../data\")\n",
    "background_dst = base_dir / \"_background_noise_\""
   ]
  },
  {
   "cell_type": "code",
   "execution_count": 39,
   "metadata": {},
   "outputs": [],
   "source": [
    "def save_chunks(chunks, split, filename):\n",
    "    for i, chunk in enumerate(chunks):\n",
    "        path = os.path.join(base_dir, split, \"silence\", f\"{filename}_{i}.wav\")\n",
    "        chunk.export(path, format=\"wav\")"
   ]
  },
  {
   "cell_type": "code",
   "execution_count": 40,
   "metadata": {},
   "outputs": [
    {
     "name": "stdout",
     "output_type": "stream",
     "text": [
      "Done splitting and saving background noise chunks!\n"
     ]
    }
   ],
   "source": [
    "chunk_length_ms = 1000  # 1 second\n",
    "hop_size_ms = chunk_length_ms // 5  # 200ms overlap\n",
    "split_ratios = (0.8, 0.1, 0.1)\n",
    "\n",
    "# Create output dirs\n",
    "for split in [\"train\", \"validation\", \"test\"]:\n",
    "    os.makedirs(os.path.join(base_dir, split, \"silence\"), exist_ok=True)\n",
    "\n",
    "# Gather and split audio\n",
    "for filename in os.listdir(background_dst):\n",
    "    if filename.endswith(\".wav\"):\n",
    "        audio_path = os.path.join(background_dst, filename)\n",
    "        audio = AudioSegment.from_wav(audio_path)\n",
    "\n",
    "        chunks = []\n",
    "\n",
    "        for i in range(0, len(audio), hop_size_ms):\n",
    "            chunk = audio[i : i + chunk_length_ms]\n",
    "            if len(chunk) == chunk_length_ms:  # Only keep full-length chunks\n",
    "                chunks.append(chunk)\n",
    "\n",
    "        total = len(chunks)\n",
    "        train_end = int(split_ratios[0] * total)\n",
    "        val_end = train_end + int(split_ratios[1] * total)\n",
    "\n",
    "        name = os.path.splitext(filename)[0]\n",
    "\n",
    "        save_chunks(chunks[:train_end], \"train\", name)\n",
    "        save_chunks(chunks[train_end:val_end], \"test\", name)\n",
    "        save_chunks(chunks[val_end:], \"validation\", name)\n",
    "\n",
    "print(\"Done splitting and saving background noise chunks!\")"
   ]
  }
 ],
 "metadata": {
  "kernelspec": {
   "display_name": "transformer_venv",
   "language": "python",
   "name": "python3"
  },
  "language_info": {
   "codemirror_mode": {
    "name": "ipython",
    "version": 3
   },
   "file_extension": ".py",
   "mimetype": "text/x-python",
   "name": "python",
   "nbconvert_exporter": "python",
   "pygments_lexer": "ipython3",
   "version": "3.12.3"
  }
 },
 "nbformat": 4,
 "nbformat_minor": 2
}
