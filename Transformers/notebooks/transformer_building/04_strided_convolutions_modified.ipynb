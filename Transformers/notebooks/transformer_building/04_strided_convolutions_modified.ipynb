{
 "cells": [
  {
   "cell_type": "code",
   "id": "initial_id",
   "metadata": {
    "collapsed": true,
    "ExecuteTime": {
     "end_time": "2025-04-27T16:50:58.800062Z",
     "start_time": "2025-04-27T16:50:53.566267Z"
    }
   },
   "source": [
    "import sys\n",
    "\n",
    "sys.path.append(\"./../../src\")\n",
    "\n",
    "from Dataset import SpeechCommandsDataset\n",
    "from torch.utils.data import DataLoader\n",
    "from Transformer import SpeechCommandTransformer, train_transformer, calculate_class_weights\n",
    "import torch\n",
    "import torch.nn as nn\n",
    "from torch.optim import AdamW"
   ],
   "outputs": [],
   "execution_count": 1
  },
  {
   "metadata": {
    "ExecuteTime": {
     "end_time": "2025-04-27T16:50:58.803011Z",
     "start_time": "2025-04-27T16:50:58.801012Z"
    }
   },
   "cell_type": "code",
   "source": "torch.cuda.empty_cache()",
   "id": "a3175cc89a7aa185",
   "outputs": [],
   "execution_count": 2
  },
  {
   "metadata": {
    "ExecuteTime": {
     "end_time": "2025-04-27T16:48:52.710712Z",
     "start_time": "2025-04-27T16:02:40.249473Z"
    }
   },
   "cell_type": "code",
   "source": [
    "train_dataset = SpeechCommandsDataset(\"../../data/train\", mode=\"modified\")\n",
    "train_loader = DataLoader(train_dataset, batch_size=16, shuffle=True, num_workers=6)\n",
    "\n",
    "test_dataset = SpeechCommandsDataset(\"../../data/test\", mode=\"modified\")\n",
    "test_loader = DataLoader(test_dataset, batch_size=16, shuffle=False, num_workers=6)\n",
    "\n",
    "device = torch.device('cuda' if torch.cuda.is_available() else 'cpu')\n",
    "model = SpeechCommandTransformer(num_classes=len(train_dataset.class_to_idx), device=device, stride=2, embed_dim=64, pos_embedding=True).to(device)\n",
    "\n",
    "class_weights = calculate_class_weights(train_dataset)\n",
    "criterion = nn.CrossEntropyLoss(weight=class_weights.to(device))\n",
    "optimizer = AdamW(model.parameters(), lr=0.00005, weight_decay=0.001)\n",
    "\n",
    "train_transformer(train_loader, test_loader, model=model, num_epochs=10, device=device, criterion=criterion, optimizer=optimizer)"
   ],
   "id": "860c62747b5ed3ad",
   "outputs": [
    {
     "name": "stderr",
     "output_type": "stream",
     "text": [
      "                                                                                    \r"
     ]
    },
    {
     "name": "stdout",
     "output_type": "stream",
     "text": [
      "Epoch [1/10], Train Loss: 2.2429, Train Accuracy: 22.52, Test Accuracy: 19.87%\n"
     ]
    },
    {
     "name": "stderr",
     "output_type": "stream",
     "text": [
      "                                                                                    \r"
     ]
    },
    {
     "name": "stdout",
     "output_type": "stream",
     "text": [
      "Epoch [2/10], Train Loss: 1.9037, Train Accuracy: 21.81, Test Accuracy: 23.34%\n"
     ]
    },
    {
     "name": "stderr",
     "output_type": "stream",
     "text": [
      "                                                                                    \r"
     ]
    },
    {
     "name": "stdout",
     "output_type": "stream",
     "text": [
      "Epoch [3/10], Train Loss: 1.6519, Train Accuracy: 24.53, Test Accuracy: 27.10%\n",
      "Early stopping at epoch 3\n",
      "Best Test Accuracy: 0.00%, Best Train Accuracy: 0.00%\n"
     ]
    }
   ],
   "execution_count": 3
  },
  {
   "metadata": {
    "jupyter": {
     "is_executing": true
    },
    "ExecuteTime": {
     "start_time": "2025-04-27T16:51:36.160612Z"
    }
   },
   "cell_type": "code",
   "source": [
    "train_dataset = SpeechCommandsDataset(\"../../data/train\", mode=\"modified\")\n",
    "train_loader = DataLoader(train_dataset, batch_size=16, shuffle=True, num_workers=6)\n",
    "\n",
    "test_dataset = SpeechCommandsDataset(\"../../data/test\", mode=\"modified\")\n",
    "test_loader = DataLoader(test_dataset, batch_size=16, shuffle=False, num_workers=6)\n",
    "\n",
    "device = torch.device('cuda' if torch.cuda.is_available() else 'cpu')\n",
    "model = SpeechCommandTransformer(num_classes=len(train_dataset.class_to_idx), device=device, stride=2, embed_dim=256, pos_embedding=True).to(device)\n",
    "\n",
    "class_weights = calculate_class_weights(train_dataset)\n",
    "criterion = nn.CrossEntropyLoss(weight=class_weights.to(device))\n",
    "optimizer = AdamW(model.parameters(), lr=0.00005, weight_decay=0.001)\n",
    "\n",
    "train_transformer(train_loader, test_loader, model=model, num_epochs=10, device=device, criterion=criterion, optimizer=optimizer)"
   ],
   "id": "2922c1cf253af29c",
   "outputs": [
    {
     "name": "stderr",
     "output_type": "stream",
     "text": [
      "Epoch 1/10:   1%|          | 23/3292 [00:13<29:37,  1.84it/s, acc=3.8, loss=2.55] "
     ]
    }
   ],
   "execution_count": null
  },
  {
   "metadata": {},
   "cell_type": "code",
   "outputs": [],
   "execution_count": null,
   "source": "",
   "id": "e52f5f2ab65fd975"
  }
 ],
 "metadata": {
  "kernelspec": {
   "display_name": "Python 3",
   "language": "python",
   "name": "python3"
  },
  "language_info": {
   "codemirror_mode": {
    "name": "ipython",
    "version": 2
   },
   "file_extension": ".py",
   "mimetype": "text/x-python",
   "name": "python",
   "nbconvert_exporter": "python",
   "pygments_lexer": "ipython2",
   "version": "2.7.6"
  }
 },
 "nbformat": 4,
 "nbformat_minor": 5
}
