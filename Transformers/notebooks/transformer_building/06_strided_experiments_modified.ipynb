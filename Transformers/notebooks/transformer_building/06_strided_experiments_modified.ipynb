{
 "cells": [
  {
   "cell_type": "code",
   "id": "initial_id",
   "metadata": {
    "collapsed": true,
    "ExecuteTime": {
     "end_time": "2025-04-27T21:01:15.577643Z",
     "start_time": "2025-04-27T21:01:11.124483Z"
    }
   },
   "source": [
    "import sys\n",
    "\n",
    "sys.path.append(\"./../../src\")\n",
    "\n",
    "from Dataset import SpeechCommandsDataset\n",
    "from torch.utils.data import DataLoader, SubsetRandomSampler, Subset\n",
    "from Transformer import SpeechCommandTransformer, train_transformer, calculate_class_weights, plot_confusion_matrix, plot_accuracy_loss, set_seed\n",
    "import torch\n",
    "from torch.optim import AdamW\n",
    "import torch.nn as nn\n",
    "import matplotlib\n",
    "%matplotlib inline\n",
    "import matplotlib.pyplot as plt\n",
    "torch.cuda.empty_cache()\n",
    "set_seed(213)"
   ],
   "outputs": [],
   "execution_count": 1
  },
  {
   "metadata": {
    "ExecuteTime": {
     "end_time": "2025-04-27T21:04:11.604439Z",
     "start_time": "2025-04-27T21:04:11.046400Z"
    }
   },
   "cell_type": "code",
   "source": [
    "train_dataset = SpeechCommandsDataset(\"../../data/train\", mode=\"modified\")\n",
    "train_loader = DataLoader(train_dataset, batch_size=16, shuffle=True, num_workers=6)\n",
    "\n",
    "test_dataset = SpeechCommandsDataset(\"../../data/test\", mode=\"modified\")\n",
    "test_loader = DataLoader(test_dataset, batch_size=16, shuffle=False, num_workers=6)\n",
    "\n",
    "device = torch.device('cuda' if torch.cuda.is_available() else 'cpu')\n",
    "\n",
    "class_weights = calculate_class_weights(train_dataset)\n",
    "criterion = nn.CrossEntropyLoss(weight=class_weights.to(device))"
   ],
   "id": "8ae48a943c40752e",
   "outputs": [],
   "execution_count": 3
  },
  {
   "metadata": {
    "jupyter": {
     "is_executing": true
    },
    "ExecuteTime": {
     "start_time": "2025-04-27T21:05:26.944610Z"
    }
   },
   "cell_type": "code",
   "source": [
    "model = SpeechCommandTransformer(num_classes=len(train_dataset.class_to_idx), embed_dim=256, device=device,\n",
    "                                 stride=2).to(device)\n",
    "\n",
    "(train_losses, train_accuracies, test_losses, test_accuracies, train_true_labels, train_pred_labels,\n",
    "     test_true_labels, test_pred_labels) = train_transformer(train_loader, test_loader, model=model, num_epochs=20, device=device, criterion=criterion)"
   ],
   "id": "af6f1df1f334c0a7",
   "outputs": [
    {
     "name": "stderr",
     "output_type": "stream",
     "text": [
      "Epoch 1/20:  31%|███       | 1010/3292 [04:31<09:47,  3.89it/s, acc=9.39, loss=2.55]"
     ]
    }
   ],
   "execution_count": null
  },
  {
   "metadata": {
    "jupyter": {
     "is_executing": true
    }
   },
   "cell_type": "code",
   "source": [
    "plot_confusion_matrix(train_true_labels, train_pred_labels, train_dataset, normalize=False)\n",
    "plot_confusion_matrix(test_true_labels, test_pred_labels, train_dataset, normalize=False)\n",
    "plot_accuracy_loss(train_accuracies, train_losses, test_accuracies, test_losses)"
   ],
   "id": "989e4717c0164c83",
   "outputs": [],
   "execution_count": null
  },
  {
   "metadata": {
    "jupyter": {
     "is_executing": true
    }
   },
   "cell_type": "code",
   "source": [
    "model = SpeechCommandTransformer(num_classes=len(train_dataset.class_to_idx), embed_dim=256, device=device,\n",
    "                                 stride=2).to(device)\n",
    "optimizer = AdamW(model.parameters(), lr=0.00005, weight_decay=0.001)\n",
    "\n",
    "(train_losses, train_accuracies, test_losses, test_accuracies, train_true_labels, train_pred_labels,\n",
    "     test_true_labels, test_pred_labels) = train_transformer(train_loader, test_loader, model=model, num_epochs=20, device=device, criterion=criterion, optimizer=optimizer)"
   ],
   "id": "a101ac54190256b0",
   "outputs": [],
   "execution_count": null
  },
  {
   "metadata": {
    "jupyter": {
     "is_executing": true
    }
   },
   "cell_type": "code",
   "source": [
    "plot_confusion_matrix(train_true_labels, train_pred_labels, train_dataset, normalize=False)\n",
    "plot_confusion_matrix(test_true_labels, test_pred_labels, train_dataset, normalize=False)\n",
    "plot_accuracy_loss(train_accuracies, train_losses, test_accuracies, test_losses)"
   ],
   "id": "c4da36b506d30f3f",
   "outputs": [],
   "execution_count": null
  },
  {
   "metadata": {
    "jupyter": {
     "is_executing": true
    }
   },
   "cell_type": "code",
   "source": [
    "model = SpeechCommandTransformer(num_classes=len(train_dataset.class_to_idx), embed_dim=256, device=device,\n",
    "                                 stride=1).to(device)\n",
    "optimizer = AdamW(model.parameters(), lr=0.00005, weight_decay=0.001)\n",
    "\n",
    "(train_losses, train_accuracies, test_losses, test_accuracies, train_true_labels, train_pred_labels,\n",
    "     test_true_labels, test_pred_labels) = train_transformer(train_loader, test_loader, model=model, num_epochs=20, device=device, criterion=criterion, optimizer=optimizer, scheduling=False)"
   ],
   "id": "7e164d61e672ac54",
   "outputs": [],
   "execution_count": null
  },
  {
   "metadata": {
    "jupyter": {
     "is_executing": true
    }
   },
   "cell_type": "code",
   "source": [
    "plot_confusion_matrix(train_true_labels, train_pred_labels, train_dataset, normalize=False)\n",
    "plot_confusion_matrix(test_true_labels, test_pred_labels, train_dataset, normalize=False)\n",
    "plot_accuracy_loss(train_accuracies, train_losses, test_accuracies, test_losses)"
   ],
   "id": "326c31b75336c3a3",
   "outputs": [],
   "execution_count": null
  },
  {
   "metadata": {
    "jupyter": {
     "is_executing": true
    }
   },
   "cell_type": "code",
   "source": [
    "model = SpeechCommandTransformer(num_classes=len(train_dataset.class_to_idx), embed_dim=256, device=device,\n",
    "                                 stride=1, pos_embedding=True).to(device)\n",
    "optimizer = AdamW(model.parameters(), lr=0.00005, weight_decay=0.001)\n",
    "\n",
    "(train_losses, train_accuracies, test_losses, test_accuracies, train_true_labels, train_pred_labels,\n",
    "     test_true_labels, test_pred_labels) = train_transformer(train_loader, test_loader, model=model, num_epochs=20, device=device, criterion=criterion, optimizer=optimizer)"
   ],
   "id": "ee665e98a863bdd4",
   "outputs": [],
   "execution_count": null
  },
  {
   "metadata": {
    "jupyter": {
     "is_executing": true
    }
   },
   "cell_type": "code",
   "source": [
    "plot_confusion_matrix(train_true_labels, train_pred_labels, train_dataset, normalize=False)\n",
    "plot_confusion_matrix(test_true_labels, test_pred_labels, train_dataset, normalize=False)\n",
    "plot_accuracy_loss(train_accuracies, train_losses, test_accuracies, test_losses)"
   ],
   "id": "b43fd987ae189d6a",
   "outputs": [],
   "execution_count": null
  },
  {
   "metadata": {},
   "cell_type": "code",
   "outputs": [],
   "execution_count": null,
   "source": "",
   "id": "22616983732bb8e9"
  }
 ],
 "metadata": {
  "kernelspec": {
   "display_name": "Python 3",
   "language": "python",
   "name": "python3"
  },
  "language_info": {
   "codemirror_mode": {
    "name": "ipython",
    "version": 2
   },
   "file_extension": ".py",
   "mimetype": "text/x-python",
   "name": "python",
   "nbconvert_exporter": "python",
   "pygments_lexer": "ipython2",
   "version": "2.7.6"
  }
 },
 "nbformat": 4,
 "nbformat_minor": 5
}
