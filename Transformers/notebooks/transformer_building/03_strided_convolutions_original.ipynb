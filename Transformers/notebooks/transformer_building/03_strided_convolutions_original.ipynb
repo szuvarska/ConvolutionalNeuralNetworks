{
 "cells": [
  {
   "cell_type": "code",
   "id": "initial_id",
   "metadata": {
    "collapsed": true,
    "ExecuteTime": {
     "end_time": "2025-04-27T15:03:10.125612Z",
     "start_time": "2025-04-27T15:03:10.123247Z"
    }
   },
   "source": [
    "import sys\n",
    "\n",
    "sys.path.append(\"./../../src\")\n",
    "\n",
    "from Dataset import SpeechCommandsDataset\n",
    "from torch.utils.data import DataLoader\n",
    "from Transformer import SpeechCommandTransformer, train_transformer\n",
    "import torch\n",
    "from torch.optim import AdamW"
   ],
   "outputs": [],
   "execution_count": 7
  },
  {
   "metadata": {
    "ExecuteTime": {
     "end_time": "2025-04-27T14:55:27.444989Z",
     "start_time": "2025-04-27T14:55:27.442982Z"
    }
   },
   "cell_type": "code",
   "source": "torch.cuda.empty_cache()",
   "id": "d8442dcfbf92e8e8",
   "outputs": [],
   "execution_count": 2
  },
  {
   "metadata": {
    "jupyter": {
     "is_executing": true
    },
    "ExecuteTime": {
     "start_time": "2025-04-27T15:03:13.146447Z"
    }
   },
   "cell_type": "code",
   "source": [
    "train_dataset = SpeechCommandsDataset(\"../../data/train\", mode=\"original\")\n",
    "train_loader = DataLoader(train_dataset, batch_size=16, shuffle=True, num_workers=6)\n",
    "\n",
    "test_dataset = SpeechCommandsDataset(\"../../data/test\", mode=\"original\")\n",
    "test_loader = DataLoader(test_dataset, batch_size=16, shuffle=False, num_workers=6)\n",
    "\n",
    "device = torch.device('cuda' if torch.cuda.is_available() else 'cpu')\n",
    "model = SpeechCommandTransformer(num_classes=len(train_dataset.class_to_idx), embed_dim=256, device=device,\n",
    "                                 stride=2).to(device)\n",
    "optimizer = AdamW(model.parameters(), lr=0.00005, weight_decay=0.001)\n",
    "\n",
    "train_transformer(train_loader, test_loader, model=model, num_epochs=10, device=device, optimizer=optimizer)"
   ],
   "id": "abc9e60739dc0753",
   "outputs": [
    {
     "name": "stderr",
     "output_type": "stream",
     "text": [
      "Epoch 1/10:  19%|█▉        | 621/3292 [05:12<23:09,  1.92it/s, acc=6.75, loss=3.36]"
     ]
    }
   ],
   "execution_count": null
  },
  {
   "metadata": {
    "ExecuteTime": {
     "end_time": "2025-04-27T14:56:51.978408Z",
     "start_time": "2025-04-27T14:56:51.978325Z"
    }
   },
   "cell_type": "code",
   "source": "",
   "id": "ffe46508523e7863",
   "outputs": [],
   "execution_count": null
  }
 ],
 "metadata": {
  "kernelspec": {
   "display_name": "Python 3",
   "language": "python",
   "name": "python3"
  },
  "language_info": {
   "codemirror_mode": {
    "name": "ipython",
    "version": 2
   },
   "file_extension": ".py",
   "mimetype": "text/x-python",
   "name": "python",
   "nbconvert_exporter": "python",
   "pygments_lexer": "ipython2",
   "version": "2.7.6"
  }
 },
 "nbformat": 4,
 "nbformat_minor": 5
}
