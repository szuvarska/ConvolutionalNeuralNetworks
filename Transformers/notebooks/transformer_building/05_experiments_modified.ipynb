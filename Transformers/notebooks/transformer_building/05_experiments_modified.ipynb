{
 "cells": [
  {
   "metadata": {},
   "cell_type": "markdown",
   "source": [
    "To test:\n",
    "* optimizers: Adam, AdamW\n",
    "* learning rate schedulers: StepLR, CosineAnnealingLR\n",
    "* more epochs\n",
    "* pos embedding\n",
    "* dropout\n",
    "* more heads"
   ],
   "id": "ff6e4444a1994f22"
  },
  {
   "metadata": {
    "ExecuteTime": {
     "end_time": "2025-04-27T20:42:20.005571Z",
     "start_time": "2025-04-27T20:42:15.800921Z"
    }
   },
   "cell_type": "code",
   "source": [
    "import sys\n",
    "\n",
    "sys.path.append(\"./../../src\")\n",
    "\n",
    "from Dataset import SpeechCommandsDataset\n",
    "from torch.utils.data import DataLoader, SubsetRandomSampler, Subset\n",
    "from Transformer import SpeechCommandTransformer, train_transformer, calculate_class_weights, plot_confusion_matrix, plot_accuracy_loss, set_seed\n",
    "import torch\n",
    "from torch.optim import AdamW\n",
    "import torch.nn as nn\n",
    "torch.cuda.empty_cache()\n",
    "set_seed(213)"
   ],
   "id": "2864069a38c01f80",
   "outputs": [],
   "execution_count": 1
  },
  {
   "metadata": {},
   "cell_type": "code",
   "outputs": [],
   "execution_count": null,
   "source": [
    "train_dataset = SpeechCommandsDataset(\"../../data/train\", mode=\"modified\")\n",
    "train_loader = DataLoader(train_dataset, batch_size=16, shuffle=True, num_workers=6)\n",
    "\n",
    "test_dataset = SpeechCommandsDataset(\"../../data/test\", mode=\"modified\")\n",
    "test_loader = DataLoader(test_dataset, batch_size=16, shuffle=False, num_workers=6)\n",
    "\n",
    "device = torch.device('cuda' if torch.cuda.is_available() else 'cpu')\n",
    "\n",
    "class_weights = calculate_class_weights(train_dataset)\n",
    "criterion = nn.CrossEntropyLoss(weight=class_weights.to(device))"
   ],
   "id": "8f07ef7a029c6250"
  },
  {
   "metadata": {},
   "cell_type": "code",
   "outputs": [],
   "execution_count": null,
   "source": [
    "model = SpeechCommandTransformer(num_classes=len(train_dataset.class_to_idx), embed_dim=256, device=device,\n",
    "                                 stride=1).to(device)\n",
    "\n",
    "(train_losses, train_accuracies, test_losses, test_accuracies, train_true_labels, train_pred_labels,\n",
    "     test_true_labels, test_pred_labels) = train_transformer(train_loader, test_loader, model=model, num_epochs=20, device=device, criterion=criterion)\n",
    "plot_confusion_matrix(train_true_labels, train_pred_labels, train_dataset, normalize=False)\n",
    "plot_confusion_matrix(test_true_labels, test_pred_labels, train_dataset, normalize=False)\n",
    "plot_accuracy_loss(train_accuracies, train_losses, test_accuracies, test_losses)"
   ],
   "id": "783deaa7d8a0ddfd"
  },
  {
   "metadata": {},
   "cell_type": "code",
   "outputs": [],
   "execution_count": null,
   "source": [
    "model = SpeechCommandTransformer(num_classes=len(train_dataset.class_to_idx), embed_dim=256, device=device,\n",
    "                                 stride=1).to(device)\n",
    "optimizer = AdamW(model.parameters(), lr=0.00005, weight_decay=0.001)\n",
    "\n",
    "(train_losses, train_accuracies, test_losses, test_accuracies, train_true_labels, train_pred_labels,\n",
    "     test_true_labels, test_pred_labels) = train_transformer(train_loader, test_loader, model=model, num_epochs=20, device=device, criterion=criterion, optimizer=optimizer)"
   ],
   "id": "839ea1c25a45595a"
  },
  {
   "metadata": {},
   "cell_type": "code",
   "outputs": [],
   "execution_count": null,
   "source": [
    "plot_confusion_matrix(train_true_labels, train_pred_labels, train_dataset, normalize=False)\n",
    "plot_confusion_matrix(test_true_labels, test_pred_labels, train_dataset, normalize=False)\n",
    "plot_accuracy_loss(train_accuracies, train_losses, test_accuracies, test_losses)"
   ],
   "id": "75e83b55f2cf1d7e"
  },
  {
   "metadata": {},
   "cell_type": "code",
   "outputs": [],
   "execution_count": null,
   "source": [
    "model = SpeechCommandTransformer(num_classes=len(train_dataset.class_to_idx), embed_dim=256, device=device,\n",
    "                                 stride=1).to(device)\n",
    "optimizer = AdamW(model.parameters(), lr=0.00005, weight_decay=0.001)\n",
    "\n",
    "(train_losses, train_accuracies, test_losses, test_accuracies, train_true_labels, train_pred_labels,\n",
    "     test_true_labels, test_pred_labels) = train_transformer(train_loader, test_loader, model=model, num_epochs=20, device=device, criterion=criterion, optimizer=optimizer, scheduling=False)"
   ],
   "id": "54f1a4f348ca3901"
  },
  {
   "metadata": {},
   "cell_type": "code",
   "outputs": [],
   "execution_count": null,
   "source": [
    "plot_confusion_matrix(train_true_labels, train_pred_labels, train_dataset, normalize=False)\n",
    "plot_confusion_matrix(test_true_labels, test_pred_labels, train_dataset, normalize=False)\n",
    "plot_accuracy_loss(train_accuracies, train_losses, test_accuracies, test_losses)"
   ],
   "id": "8800f0f0d0bf46a8"
  },
  {
   "metadata": {},
   "cell_type": "code",
   "outputs": [],
   "execution_count": null,
   "source": [
    "model = SpeechCommandTransformer(num_classes=len(train_dataset.class_to_idx), embed_dim=256, device=device,\n",
    "                                 stride=1).to(device)\n",
    "optimizer = AdamW(model.parameters(), lr=0.00005, weight_decay=0.001)\n",
    "\n",
    "(train_losses, train_accuracies, test_losses, test_accuracies, train_true_labels, train_pred_labels,\n",
    "     test_true_labels, test_pred_labels) = train_transformer(train_loader, test_loader, model=model, num_epochs=20, device=device, criterion=criterion, optimizer=optimizer, scheduling=False)"
   ],
   "id": "683707d8bed65e09"
  },
  {
   "metadata": {},
   "cell_type": "code",
   "outputs": [],
   "execution_count": null,
   "source": [
    "plot_confusion_matrix(train_true_labels, train_pred_labels, train_dataset, normalize=False)\n",
    "plot_confusion_matrix(test_true_labels, test_pred_labels, train_dataset, normalize=False)\n",
    "plot_accuracy_loss(train_accuracies, train_losses, test_accuracies, test_losses)"
   ],
   "id": "6088fe6b20a799d2"
  },
  {
   "metadata": {},
   "cell_type": "code",
   "outputs": [],
   "execution_count": null,
   "source": [
    "model = SpeechCommandTransformer(num_classes=len(train_dataset.class_to_idx), embed_dim=256, device=device,\n",
    "                                 stride=1, pos_embedding=True).to(device)\n",
    "optimizer = AdamW(model.parameters(), lr=0.00005, weight_decay=0.001)\n",
    "\n",
    "(train_losses, train_accuracies, test_losses, test_accuracies, train_true_labels, train_pred_labels,\n",
    "     test_true_labels, test_pred_labels) = train_transformer(train_loader, test_loader, model=model, num_epochs=20, device=device, criterion=criterion, optimizer=optimizer, scheduling=False)"
   ],
   "id": "63d428747164239b"
  },
  {
   "metadata": {},
   "cell_type": "code",
   "outputs": [],
   "execution_count": null,
   "source": [
    "plot_confusion_matrix(train_true_labels, train_pred_labels, train_dataset, normalize=False)\n",
    "plot_confusion_matrix(test_true_labels, test_pred_labels, train_dataset, normalize=False)\n",
    "plot_accuracy_loss(train_accuracies, train_losses, test_accuracies, test_losses)"
   ],
   "id": "a0f93a404cf59f6b"
  }
 ],
 "metadata": {
  "kernelspec": {
   "display_name": "Python 3",
   "language": "python",
   "name": "python3"
  },
  "language_info": {
   "codemirror_mode": {
    "name": "ipython",
    "version": 2
   },
   "file_extension": ".py",
   "mimetype": "text/x-python",
   "name": "python",
   "nbconvert_exporter": "python",
   "pygments_lexer": "ipython2",
   "version": "2.7.6"
  }
 },
 "nbformat": 4,
 "nbformat_minor": 5
}
