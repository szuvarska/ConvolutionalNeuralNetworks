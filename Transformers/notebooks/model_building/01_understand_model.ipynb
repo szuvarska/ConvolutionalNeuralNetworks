{
 "cells": [
  {
   "cell_type": "markdown",
   "id": "1c4c6803",
   "metadata": {},
   "source": [
    "In last notebook I achieved 82% accuracy, but it was unstable and a little sketchy, I want to master the technique here and try LSTM, maybe some scheduling and see how far I can push things. I'm also curious about stability of model, when it trained it jumped out of local minima."
   ]
  },
  {
   "cell_type": "code",
   "execution_count": 1,
   "id": "5b466b35",
   "metadata": {},
   "outputs": [],
   "source": [
    "import sys\n",
    "\n",
    "sys.path.append(\"./../../src\")\n",
    "\n",
    "\n",
    "from Dataset import SpeechCommandsDataset\n",
    "from torch.utils.data import DataLoader\n",
    "import torch\n",
    "import torch.nn as nn\n",
    "import matplotlib.pyplot as plt\n",
    "\n",
    "\n",
    "device = torch.device(\"cuda\" if torch.cuda.is_available() else \"cpu\")"
   ]
  },
  {
   "cell_type": "code",
   "execution_count": 2,
   "id": "ba0751de",
   "metadata": {},
   "outputs": [],
   "source": [
    "test_dataset = SpeechCommandsDataset(\"./../../data/test\")\n",
    "train_dataset = SpeechCommandsDataset(\"./../../data/train\")"
   ]
  },
  {
   "cell_type": "code",
   "execution_count": 3,
   "id": "048ea7d4",
   "metadata": {},
   "outputs": [],
   "source": [
    "class SpeechCommandGRU(nn.Module):\n",
    "    def __init__(self, input_size=40, hidden_size=128, num_layers=2, num_classes=35):\n",
    "        super(SpeechCommandGRU, self).__init__()\n",
    "\n",
    "        # Apply a 1D Conv to reduce dimensionality and extract features\n",
    "        self.conv = nn.Sequential(\n",
    "            nn.Conv1d(1, 32, kernel_size=80, stride=40),  # (16000 -> 400)\n",
    "            nn.ReLU(),\n",
    "            nn.Conv1d(32, input_size, kernel_size=3, padding=1),\n",
    "            nn.ReLU(),\n",
    "        )\n",
    "\n",
    "        self.rnn = nn.GRU(\n",
    "            input_size=input_size,\n",
    "            hidden_size=hidden_size,\n",
    "            num_layers=num_layers,\n",
    "            batch_first=True,\n",
    "            bidirectional=True,\n",
    "        )\n",
    "\n",
    "        # Output layer\n",
    "        self.fc = nn.Linear(hidden_size * 2, num_classes)\n",
    "\n",
    "    def forward(self, x):\n",
    "        x = x.squeeze(1)\n",
    "        x = x.unsqueeze(1)  # (batch, 1, 16000)\n",
    "        x = self.conv(x)  # (batch, input_size, time_steps)\n",
    "        x = x.permute(0, 2, 1)  # (batch, time_steps, input_size)\n",
    "        out, _ = self.rnn(x)  # (batch, time_steps, hidden_size*2)\n",
    "        out = out[:, -1, :]  # Use last timestep\n",
    "        out = self.fc(out)  # (batch, num_classes)\n",
    "        return out"
   ]
  },
  {
   "cell_type": "code",
   "execution_count": 4,
   "id": "9fc44a70",
   "metadata": {},
   "outputs": [],
   "source": [
    "def evaluate(model, dataloader, device):\n",
    "    model.eval()\n",
    "    correct = 0\n",
    "    total = 0\n",
    "\n",
    "    with torch.no_grad():\n",
    "        for waveforms, labels in dataloader:\n",
    "            waveforms, labels = waveforms.to(device), labels.to(device)\n",
    "            outputs = model(waveforms)  # shape: (batch_size, num_classes)\n",
    "            _, predicted = torch.max(outputs, 1)  # Get predicted class index\n",
    "            correct += (predicted == labels).sum().item()\n",
    "            total += labels.size(0)\n",
    "\n",
    "    accuracy = correct / total\n",
    "    print(f\"Test Accuracy: {accuracy:.2%}\")\n",
    "    return accuracy"
   ]
  },
  {
   "cell_type": "code",
   "execution_count": null,
   "id": "deb129a4",
   "metadata": {},
   "outputs": [
    {
     "name": "stdout",
     "output_type": "stream",
     "text": [
      "Epoch 1, Loss: 3.3824\n",
      "Epoch 2, Loss: 3.4453\n",
      "Epoch 3, Loss: 3.3413\n",
      "Epoch 4, Loss: 3.4319\n",
      "Epoch 5, Loss: 3.4214\n",
      "Epoch 6, Loss: 2.2239\n",
      "Epoch 7, Loss: 0.8350\n",
      "Epoch 8, Loss: 1.3686\n",
      "Epoch 9, Loss: 0.0929\n",
      "Epoch 10, Loss: 0.7756\n"
     ]
    }
   ],
   "source": [
    "train_loader = DataLoader(\n",
    "    train_dataset,\n",
    "    batch_size=32,\n",
    "    shuffle=True,\n",
    "    num_workers=12,\n",
    "    pin_memory=True,\n",
    "    persistent_workers=True,\n",
    ")\n",
    "\n",
    "model = SpeechCommandGRU(num_classes=30).to(device)\n",
    "criterion = nn.CrossEntropyLoss()\n",
    "optimizer = torch.optim.Adam(model.parameters(), lr=0.001)\n",
    "\n",
    "# Training loop\n",
    "for epoch in range(10):\n",
    "    model.train()\n",
    "    for waveforms, labels in train_loader:\n",
    "        waveforms, labels = waveforms.to(device), labels.to(device)\n",
    "        outputs = model(waveforms)\n",
    "        loss = criterion(outputs, labels)\n",
    "\n",
    "        optimizer.zero_grad()\n",
    "        loss.backward()\n",
    "        optimizer.step()\n",
    "\n",
    "    print(f\"Epoch {epoch+1}, Loss: {loss.item():.4f}\")"
   ]
  },
  {
   "cell_type": "code",
   "execution_count": 6,
   "id": "e3c07a5a",
   "metadata": {},
   "outputs": [
    {
     "name": "stdout",
     "output_type": "stream",
     "text": [
      "Test Accuracy: 81.16%\n"
     ]
    }
   ],
   "source": [
    "test_loader = DataLoader(test_dataset, batch_size=64, shuffle=False)\n",
    "test_accuracy = evaluate(model, test_loader, device)"
   ]
  },
  {
   "cell_type": "markdown",
   "id": "8b27feda",
   "metadata": {},
   "source": [
    "Is there an error in data split those results are too good???"
   ]
  },
  {
   "cell_type": "code",
   "execution_count": 9,
   "id": "7844be79",
   "metadata": {},
   "outputs": [
    {
     "name": "stdout",
     "output_type": "stream",
     "text": [
      "Train: 51088\n",
      "Test: 6835\n",
      "Validation: 6798\n",
      "Total WAV files: 64721\n"
     ]
    }
   ],
   "source": [
    "import glob\n",
    "\n",
    "train_files = glob.glob(\"./../../data/train/**/*.wav\", recursive=True)\n",
    "test_files = glob.glob(\"./../../data/test/**/*.wav\", recursive=True)\n",
    "val_files = glob.glob(\"./../../data/validation/**/*.wav\", recursive=True)\n",
    "\n",
    "total_files = len(train_files) + len(test_files) + len(val_files)\n",
    "\n",
    "print(f\"Train: {len(train_files)}\")\n",
    "print(f\"Test: {len(test_files)}\")\n",
    "print(f\"Validation: {len(val_files)}\")\n",
    "print(f\"Total WAV files: {total_files}\")"
   ]
  },
  {
   "cell_type": "markdown",
   "id": "17c3657d",
   "metadata": {},
   "source": [
    "Doesn't seem like it"
   ]
  },
  {
   "cell_type": "markdown",
   "id": "4cc9d34f",
   "metadata": {},
   "source": [
    "### Visualize learning process (acc and loss in epochs)"
   ]
  },
  {
   "cell_type": "code",
   "execution_count": 10,
   "id": "05e36b44",
   "metadata": {},
   "outputs": [
    {
     "name": "stdout",
     "output_type": "stream",
     "text": [
      "Epoch 1 | Train Loss: 3.3955 | Train Acc: 3.53%\n",
      "Epoch 2 | Train Loss: 3.3937 | Train Acc: 3.67%\n",
      "Epoch 3 | Train Loss: 3.3933 | Train Acc: 3.48%\n",
      "Epoch 4 | Train Loss: 3.3510 | Train Acc: 4.65%\n",
      "Epoch 5 | Train Loss: 1.5531 | Train Acc: 51.18%\n",
      "Epoch 6 | Train Loss: 0.8426 | Train Acc: 73.89%\n",
      "Epoch 7 | Train Loss: 0.6479 | Train Acc: 79.97%\n",
      "Epoch 8 | Train Loss: 0.5420 | Train Acc: 83.25%\n",
      "Epoch 9 | Train Loss: 0.4672 | Train Acc: 85.54%\n",
      "Epoch 10 | Train Loss: 0.4066 | Train Acc: 87.48%\n",
      "Epoch 11 | Train Loss: 0.3482 | Train Acc: 89.31%\n",
      "Epoch 12 | Train Loss: 0.3041 | Train Acc: 90.46%\n",
      "Epoch 13 | Train Loss: 0.2681 | Train Acc: 91.73%\n",
      "Epoch 14 | Train Loss: 0.2428 | Train Acc: 92.47%\n",
      "Epoch 15 | Train Loss: 0.2190 | Train Acc: 93.21%\n"
     ]
    }
   ],
   "source": [
    "train_loader = DataLoader(\n",
    "    train_dataset,\n",
    "    batch_size=32,\n",
    "    shuffle=True,\n",
    "    num_workers=12,\n",
    "    pin_memory=True,\n",
    "    persistent_workers=True,\n",
    ")\n",
    "test_loader = DataLoader(test_dataset, batch_size=64, shuffle=False)\n",
    "\n",
    "model = SpeechCommandGRU(num_classes=30).to(device)\n",
    "criterion = nn.CrossEntropyLoss()\n",
    "optimizer = torch.optim.Adam(model.parameters(), lr=0.001)\n",
    "\n",
    "num_epochs = 15\n",
    "\n",
    "train_losses = []\n",
    "train_accuracies = []\n",
    "test_accuracies = []\n",
    "\n",
    "for epoch in range(num_epochs):\n",
    "    model.train()\n",
    "    running_loss = 0.0\n",
    "    correct = 0\n",
    "    total = 0\n",
    "\n",
    "    for waveforms, labels in train_loader:\n",
    "        waveforms, labels = waveforms.to(device), labels.to(device)\n",
    "\n",
    "        outputs = model(waveforms)\n",
    "        loss = criterion(outputs, labels)\n",
    "\n",
    "        optimizer.zero_grad()\n",
    "        loss.backward()\n",
    "        optimizer.step()\n",
    "\n",
    "        running_loss += loss.item() * labels.size(0)\n",
    "        _, predicted = torch.max(outputs, 1)\n",
    "        correct += (predicted == labels).sum().item()\n",
    "        total += labels.size(0)\n",
    "\n",
    "    avg_loss = running_loss / total\n",
    "    train_acc = correct / total\n",
    "    train_losses.append(avg_loss)\n",
    "    train_accuracies.append(train_acc)\n",
    "\n",
    "    # Evaluate on test set\n",
    "    # test_acc = evaluate(model, test_loader, device)\n",
    "    # test_accuracies.append(test_acc)\n",
    "\n",
    "    print(\n",
    "        f\"Epoch {epoch+1} | Train Loss: {avg_loss:.4f} | Train Acc: {train_acc:.2%}\"  # | Test Acc: {test_acc:.2%}\"\n",
    "    )"
   ]
  },
  {
   "cell_type": "code",
   "execution_count": 11,
   "id": "c7fe7807",
   "metadata": {},
   "outputs": [
    {
     "data": {
      "image/png": "[encoded data removed]",
      "text/plain": [
       "<Figure size 1200x500 with 2 Axes>"
      ]
     },
     "metadata": {},
     "output_type": "display_data"
    }
   ],
   "source": [
    "# Plot training loss and accuracy\n",
    "epochs = range(1, num_epochs + 1)\n",
    "\n",
    "plt.figure(figsize=(12, 5))\n",
    "\n",
    "# Loss\n",
    "plt.subplot(1, 2, 1)\n",
    "plt.plot(epochs, train_losses, label=\"Train Loss\", color=\"blue\")\n",
    "plt.xlabel(\"Epoch\")\n",
    "plt.ylabel(\"Loss\")\n",
    "plt.title(\"Training Loss\")\n",
    "plt.grid(True)\n",
    "\n",
    "# Accuracy\n",
    "plt.subplot(1, 2, 2)\n",
    "plt.plot(epochs, train_accuracies, label=\"Train Accuracy\", color=\"green\")\n",
    "# plt.plot(epochs, test_accuracies, label=\"Test Accuracy\", color=\"red\")\n",
    "plt.xlabel(\"Epoch\")\n",
    "plt.ylabel(\"Accuracy\")\n",
    "plt.title(\"Accuracy\")\n",
    "plt.legend()\n",
    "plt.grid(True)\n",
    "\n",
    "plt.tight_layout()\n",
    "plt.show()"
   ]
  },
  {
   "cell_type": "code",
   "execution_count": 12,
   "id": "12ea729a",
   "metadata": {},
   "outputs": [
    {
     "name": "stdout",
     "output_type": "stream",
     "text": [
      "Test Accuracy: 86.69%\n"
     ]
    },
    {
     "data": {
      "text/plain": [
       "0.866861741038771"
      ]
     },
     "execution_count": 12,
     "metadata": {},
     "output_type": "execute_result"
    }
   ],
   "source": [
    "evaluate(model, test_loader, device)"
   ]
  },
  {
   "cell_type": "code",
   "execution_count": null,
   "id": "0670adb8",
   "metadata": {},
   "outputs": [],
   "source": []
  }
 ],
 "metadata": {
  "kernelspec": {
   "display_name": "transformer_venv",
   "language": "python",
   "name": "python3"
  },
  "language_info": {
   "codemirror_mode": {
    "name": "ipython",
    "version": 3
   },
   "file_extension": ".py",
   "mimetype": "text/x-python",
   "name": "python",
   "nbconvert_exporter": "python",
   "pygments_lexer": "ipython3",
   "version": "3.12.3"
  }
 },
 "nbformat": 4,
 "nbformat_minor": 5
}
