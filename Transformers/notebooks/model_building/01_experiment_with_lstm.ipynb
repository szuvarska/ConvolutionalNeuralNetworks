{
 "cells": [
  {
   "cell_type": "markdown",
   "id": "1c4c6803",
   "metadata": {},
   "source": [
    "In last notebook I achieved 82% accuracy, but it was unstable and a little sketchy, I want to master the technique here and try LSTM, maybe some scheduling and see how far I can push things. I'm also curious about stability of model, when it trained it jumped out of local minima."
   ]
  },
  {
   "cell_type": "code",
   "execution_count": 1,
   "id": "5b466b35",
   "metadata": {},
   "outputs": [],
   "source": [
    "import sys\n",
    "\n",
    "sys.path.append(\"./../../src\")\n",
    "\n",
    "\n",
    "from Dataset import SpeechCommandsDataset\n",
    "from torch.utils.data import DataLoader\n",
    "import torch\n",
    "import torch.nn as nn\n",
    "\n",
    "\n",
    "device = torch.device(\"cuda\" if torch.cuda.is_available() else \"cpu\")"
   ]
  },
  {
   "cell_type": "code",
   "execution_count": 2,
   "id": "ba0751de",
   "metadata": {},
   "outputs": [],
   "source": [
    "test_dataset = SpeechCommandsDataset(\"./../../data/test\")\n",
    "train_dataset = SpeechCommandsDataset(\"./../../data/train\")"
   ]
  },
  {
   "cell_type": "code",
   "execution_count": 3,
   "id": "048ea7d4",
   "metadata": {},
   "outputs": [],
   "source": [
    "class SpeechCommandGRU(nn.Module):\n",
    "    def __init__(self, input_size=40, hidden_size=128, num_layers=2, num_classes=35):\n",
    "        super(SpeechCommandGRU, self).__init__()\n",
    "\n",
    "        # Apply a 1D Conv to reduce dimensionality and extract features\n",
    "        self.conv = nn.Sequential(\n",
    "            nn.Conv1d(1, 32, kernel_size=80, stride=40),  # (16000 -> 400)\n",
    "            nn.ReLU(),\n",
    "            nn.Conv1d(32, input_size, kernel_size=3, padding=1),\n",
    "            nn.ReLU(),\n",
    "        )\n",
    "\n",
    "        self.rnn = nn.GRU(\n",
    "            input_size=input_size,\n",
    "            hidden_size=hidden_size,\n",
    "            num_layers=num_layers,\n",
    "            batch_first=True,\n",
    "            bidirectional=True,\n",
    "        )\n",
    "\n",
    "        # Output layer\n",
    "        self.fc = nn.Linear(hidden_size * 2, num_classes)\n",
    "\n",
    "    def forward(self, x):\n",
    "        x = x.squeeze(1)\n",
    "        x = x.unsqueeze(1)  # (batch, 1, 16000)\n",
    "        x = self.conv(x)  # (batch, input_size, time_steps)\n",
    "        x = x.permute(0, 2, 1)  # (batch, time_steps, input_size)\n",
    "        out, _ = self.rnn(x)  # (batch, time_steps, hidden_size*2)\n",
    "        out = out[:, -1, :]  # Use last timestep\n",
    "        out = self.fc(out)  # (batch, num_classes)\n",
    "        return out"
   ]
  },
  {
   "cell_type": "code",
   "execution_count": 4,
   "id": "9fc44a70",
   "metadata": {},
   "outputs": [],
   "source": [
    "def evaluate(model, dataloader, device):\n",
    "    model.eval()\n",
    "    correct = 0\n",
    "    total = 0\n",
    "\n",
    "    with torch.no_grad():\n",
    "        for waveforms, labels in dataloader:\n",
    "            waveforms, labels = waveforms.to(device), labels.to(device)\n",
    "            outputs = model(waveforms)  # shape: (batch_size, num_classes)\n",
    "            _, predicted = torch.max(outputs, 1)  # Get predicted class index\n",
    "            correct += (predicted == labels).sum().item()\n",
    "            total += labels.size(0)\n",
    "\n",
    "    accuracy = correct / total\n",
    "    print(f\"Test Accuracy: {accuracy:.2%}\")\n",
    "    return accuracy"
   ]
  },
  {
   "cell_type": "code",
   "execution_count": 5,
   "id": "deb129a4",
   "metadata": {},
   "outputs": [
    {
     "name": "stdout",
     "output_type": "stream",
     "text": [
      "Epoch 1, Loss: 3.3824\n",
      "Epoch 2, Loss: 3.4453\n",
      "Epoch 3, Loss: 3.3413\n",
      "Epoch 4, Loss: 3.4319\n",
      "Epoch 5, Loss: 3.4214\n",
      "Epoch 6, Loss: 2.2239\n",
      "Epoch 7, Loss: 0.8350\n",
      "Epoch 8, Loss: 1.3686\n",
      "Epoch 9, Loss: 0.0929\n",
      "Epoch 10, Loss: 0.7756\n"
     ]
    }
   ],
   "source": [
    "train_loader = DataLoader(\n",
    "    train_dataset,\n",
    "    batch_size=32,\n",
    "    shuffle=True,\n",
    "    num_workers=12,\n",
    "    pin_memory=True,\n",
    "    persistent_workers=True,\n",
    ")\n",
    "\n",
    "model = SpeechCommandGRU(num_classes=30).to(device)\n",
    "criterion = nn.CrossEntropyLoss()\n",
    "optimizer = torch.optim.Adam(model.parameters(), lr=0.001)\n",
    "\n",
    "# Training loop\n",
    "for epoch in range(10):\n",
    "    model.train()\n",
    "    for waveforms, labels in train_loader:\n",
    "        waveforms, labels = waveforms.to(device), labels.to(device)\n",
    "        outputs = model(waveforms)\n",
    "        loss = criterion(outputs, labels)\n",
    "\n",
    "        optimizer.zero_grad()\n",
    "        loss.backward()\n",
    "        optimizer.step()\n",
    "\n",
    "    print(f\"Epoch {epoch+1}, Loss: {loss.item():.4f}\")"
   ]
  },
  {
   "cell_type": "code",
   "execution_count": 6,
   "id": "e3c07a5a",
   "metadata": {},
   "outputs": [
    {
     "name": "stdout",
     "output_type": "stream",
     "text": [
      "Test Accuracy: 81.16%\n"
     ]
    }
   ],
   "source": [
    "test_loader = DataLoader(test_dataset, batch_size=64, shuffle=False)\n",
    "test_accuracy = evaluate(model, test_loader, device)"
   ]
  },
  {
   "cell_type": "code",
   "execution_count": null,
   "id": "c7d6b9d9",
   "metadata": {},
   "outputs": [],
   "source": []
  }
 ],
 "metadata": {
  "kernelspec": {
   "display_name": "transformer_venv",
   "language": "python",
   "name": "python3"
  },
  "language_info": {
   "codemirror_mode": {
    "name": "ipython",
    "version": 3
   },
   "file_extension": ".py",
   "mimetype": "text/x-python",
   "name": "python",
   "nbconvert_exporter": "python",
   "pygments_lexer": "ipython3",
   "version": "3.12.3"
  }
 },
 "nbformat": 4,
 "nbformat_minor": 5
}
